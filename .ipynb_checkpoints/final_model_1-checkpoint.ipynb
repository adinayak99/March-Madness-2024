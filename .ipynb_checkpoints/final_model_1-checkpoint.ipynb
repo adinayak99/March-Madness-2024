{
 "cells": [
  {
   "cell_type": "code",
   "execution_count": 1,
   "id": "aecf303a",
   "metadata": {},
   "outputs": [],
   "source": [
    "import pandas as pd\n",
    "import matplotlib.pyplot as plt\n",
    "import numpy as np\n",
    "import seaborn as sns\n",
    "import warnings\n",
    "warnings.filterwarnings('ignore')\n",
    "%matplotlib inline"
   ]
  },
  {
   "cell_type": "code",
   "execution_count": 2,
   "id": "f0c044bb",
   "metadata": {},
   "outputs": [],
   "source": [
    "ncaa_data = pd.read_csv(\"./data/MNCAATourneyDetailedResults.csv\")"
   ]
  },
  {
   "cell_type": "code",
   "execution_count": 3,
   "id": "0e11deb8",
   "metadata": {},
   "outputs": [
    {
     "data": {
      "text/plain": [
       "Index(['Season', 'DayNum', 'WTeamID', 'WScore', 'LTeamID', 'LScore', 'WLoc',\n",
       "       'NumOT', 'WFGM', 'WFGA', 'WFGM3', 'WFGA3', 'WFTM', 'WFTA', 'WOR', 'WDR',\n",
       "       'WAst', 'WTO', 'WStl', 'WBlk', 'WPF', 'LFGM', 'LFGA', 'LFGM3', 'LFGA3',\n",
       "       'LFTM', 'LFTA', 'LOR', 'LDR', 'LAst', 'LTO', 'LStl', 'LBlk', 'LPF'],\n",
       "      dtype='object')"
      ]
     },
     "execution_count": 3,
     "metadata": {},
     "output_type": "execute_result"
    }
   ],
   "source": [
    "ncaa_data.columns"
   ]
  },
  {
   "cell_type": "code",
   "execution_count": 4,
   "id": "97882958",
   "metadata": {},
   "outputs": [
    {
     "data": {
      "text/plain": [
       "(1315, 34)"
      ]
     },
     "execution_count": 4,
     "metadata": {},
     "output_type": "execute_result"
    }
   ],
   "source": [
    "ncaa_data.shape"
   ]
  },
  {
   "cell_type": "code",
   "execution_count": 5,
   "id": "a37b418b",
   "metadata": {},
   "outputs": [],
   "source": [
    "all_data = pd.read_csv(\"./data/MRegularSeasonDetailedResults.csv\")"
   ]
  },
  {
   "cell_type": "code",
   "execution_count": 6,
   "id": "f3762454",
   "metadata": {},
   "outputs": [
    {
     "data": {
      "text/plain": [
       "((112504, 34),\n",
       " Index(['Season', 'DayNum', 'WTeamID', 'WScore', 'LTeamID', 'LScore', 'WLoc',\n",
       "        'NumOT', 'WFGM', 'WFGA', 'WFGM3', 'WFGA3', 'WFTM', 'WFTA', 'WOR', 'WDR',\n",
       "        'WAst', 'WTO', 'WStl', 'WBlk', 'WPF', 'LFGM', 'LFGA', 'LFGM3', 'LFGA3',\n",
       "        'LFTM', 'LFTA', 'LOR', 'LDR', 'LAst', 'LTO', 'LStl', 'LBlk', 'LPF'],\n",
       "       dtype='object'))"
      ]
     },
     "execution_count": 6,
     "metadata": {},
     "output_type": "execute_result"
    }
   ],
   "source": [
    "all_data.shape, all_data.columns"
   ]
  },
  {
   "cell_type": "code",
   "execution_count": 7,
   "id": "7ba40d17",
   "metadata": {},
   "outputs": [
    {
     "data": {
      "text/plain": [
       "array([2003, 2004, 2005, 2006, 2007, 2008, 2009, 2010, 2011, 2012, 2013,\n",
       "       2014, 2015, 2016, 2017, 2018, 2019, 2020, 2021, 2022, 2023, 2024],\n",
       "      dtype=int64)"
      ]
     },
     "execution_count": 7,
     "metadata": {},
     "output_type": "execute_result"
    }
   ],
   "source": [
    "all_data.Season.unique()"
   ]
  },
  {
   "cell_type": "code",
   "execution_count": 8,
   "id": "1e35a42b",
   "metadata": {},
   "outputs": [],
   "source": [
    "training_data = all_data[all_data.Season != 2024]\n",
    "test_data = all_data[all_data.Season == 2024]"
   ]
  },
  {
   "cell_type": "code",
   "execution_count": 9,
   "id": "40028d38",
   "metadata": {},
   "outputs": [],
   "source": [
    "winning_team = training_data[['WFGM', 'WFGA', 'WFGM3', 'WFGA3', 'WFTM', 'WFTA', 'WOR', 'WDR', 'WAst', 'WTO', \n",
    "                         'WStl', 'WBlk', 'WPF']]\n",
    "losing_team = training_data[['LFGM', 'LFGA', 'LFGM3', 'LFGA3', 'LFTM', 'LFTA', 'LOR', 'LDR', 'LAst', 'LTO', \n",
    "                        'LStl', 'LBlk', 'LPF']]\n",
    "\n",
    "winning_team_test = test_data[['WFGM', 'WFGA', 'WFGM3', 'WFGA3', 'WFTM', 'WFTA', 'WOR', 'WDR', 'WAst', 'WTO', \n",
    "                         'WStl', 'WBlk', 'WPF']]\n",
    "losing_team_test = test_data[['LFGM', 'LFGA', 'LFGM3', 'LFGA3', 'LFTM', 'LFTA', 'LOR', 'LDR', 'LAst', 'LTO', \n",
    "                        'LStl', 'LBlk', 'LPF']]"
   ]
  },
  {
   "cell_type": "code",
   "execution_count": 10,
   "id": "2cbb5755",
   "metadata": {},
   "outputs": [],
   "source": [
    "winning_team.rename(columns= lambda x: x[1:], inplace=True)\n",
    "winning_team['target'] = 1\n",
    "losing_team.rename(columns = lambda x: x[1:], inplace=True)\n",
    "losing_team['target'] = 0\n",
    "\n",
    "winning_team_test.rename(columns=lambda x: x[1:], inplace=True)\n",
    "winning_team_test['target'] = 1\n",
    "losing_team_test.rename(columns=lambda x: x[1:], inplace=True)\n",
    "losing_team_test['target'] = 0"
   ]
  },
  {
   "cell_type": "code",
   "execution_count": 11,
   "id": "c9d4b23c",
   "metadata": {},
   "outputs": [],
   "source": [
    "data_train = pd.concat([winning_team, losing_team])\n",
    "data_train = data_train.sample(frac=1).reset_index()\n",
    "data_train.drop(columns=['index'], inplace=True)\n",
    "\n",
    "data_test = pd.concat([winning_team_test, losing_team_test])\n",
    "data_test = data_test.sample(frac=1).reset_index()\n",
    "data_test.drop(columns=['index'], inplace=True)"
   ]
  },
  {
   "cell_type": "code",
   "execution_count": 12,
   "id": "d593ef80",
   "metadata": {},
   "outputs": [
    {
     "data": {
      "text/html": [
       "<div>\n",
       "<style scoped>\n",
       "    .dataframe tbody tr th:only-of-type {\n",
       "        vertical-align: middle;\n",
       "    }\n",
       "\n",
       "    .dataframe tbody tr th {\n",
       "        vertical-align: top;\n",
       "    }\n",
       "\n",
       "    .dataframe thead th {\n",
       "        text-align: right;\n",
       "    }\n",
       "</style>\n",
       "<table border=\"1\" class=\"dataframe\">\n",
       "  <thead>\n",
       "    <tr style=\"text-align: right;\">\n",
       "      <th></th>\n",
       "      <th>FGM</th>\n",
       "      <th>FGA</th>\n",
       "      <th>FGM3</th>\n",
       "      <th>FGA3</th>\n",
       "      <th>FTM</th>\n",
       "      <th>FTA</th>\n",
       "      <th>OR</th>\n",
       "      <th>DR</th>\n",
       "      <th>Ast</th>\n",
       "      <th>TO</th>\n",
       "      <th>Stl</th>\n",
       "      <th>Blk</th>\n",
       "      <th>PF</th>\n",
       "      <th>target</th>\n",
       "    </tr>\n",
       "  </thead>\n",
       "  <tbody>\n",
       "    <tr>\n",
       "      <th>0</th>\n",
       "      <td>25</td>\n",
       "      <td>53</td>\n",
       "      <td>6</td>\n",
       "      <td>19</td>\n",
       "      <td>11</td>\n",
       "      <td>13</td>\n",
       "      <td>4</td>\n",
       "      <td>19</td>\n",
       "      <td>9</td>\n",
       "      <td>22</td>\n",
       "      <td>7</td>\n",
       "      <td>0</td>\n",
       "      <td>12</td>\n",
       "      <td>0</td>\n",
       "    </tr>\n",
       "    <tr>\n",
       "      <th>1</th>\n",
       "      <td>21</td>\n",
       "      <td>50</td>\n",
       "      <td>7</td>\n",
       "      <td>20</td>\n",
       "      <td>11</td>\n",
       "      <td>13</td>\n",
       "      <td>4</td>\n",
       "      <td>30</td>\n",
       "      <td>7</td>\n",
       "      <td>16</td>\n",
       "      <td>5</td>\n",
       "      <td>6</td>\n",
       "      <td>17</td>\n",
       "      <td>0</td>\n",
       "    </tr>\n",
       "    <tr>\n",
       "      <th>2</th>\n",
       "      <td>24</td>\n",
       "      <td>52</td>\n",
       "      <td>7</td>\n",
       "      <td>25</td>\n",
       "      <td>24</td>\n",
       "      <td>30</td>\n",
       "      <td>11</td>\n",
       "      <td>29</td>\n",
       "      <td>14</td>\n",
       "      <td>13</td>\n",
       "      <td>4</td>\n",
       "      <td>3</td>\n",
       "      <td>17</td>\n",
       "      <td>1</td>\n",
       "    </tr>\n",
       "    <tr>\n",
       "      <th>3</th>\n",
       "      <td>25</td>\n",
       "      <td>56</td>\n",
       "      <td>10</td>\n",
       "      <td>24</td>\n",
       "      <td>8</td>\n",
       "      <td>11</td>\n",
       "      <td>6</td>\n",
       "      <td>14</td>\n",
       "      <td>17</td>\n",
       "      <td>8</td>\n",
       "      <td>3</td>\n",
       "      <td>3</td>\n",
       "      <td>16</td>\n",
       "      <td>0</td>\n",
       "    </tr>\n",
       "    <tr>\n",
       "      <th>4</th>\n",
       "      <td>24</td>\n",
       "      <td>61</td>\n",
       "      <td>6</td>\n",
       "      <td>26</td>\n",
       "      <td>10</td>\n",
       "      <td>13</td>\n",
       "      <td>11</td>\n",
       "      <td>20</td>\n",
       "      <td>12</td>\n",
       "      <td>13</td>\n",
       "      <td>3</td>\n",
       "      <td>3</td>\n",
       "      <td>15</td>\n",
       "      <td>0</td>\n",
       "    </tr>\n",
       "    <tr>\n",
       "      <th>...</th>\n",
       "      <td>...</td>\n",
       "      <td>...</td>\n",
       "      <td>...</td>\n",
       "      <td>...</td>\n",
       "      <td>...</td>\n",
       "      <td>...</td>\n",
       "      <td>...</td>\n",
       "      <td>...</td>\n",
       "      <td>...</td>\n",
       "      <td>...</td>\n",
       "      <td>...</td>\n",
       "      <td>...</td>\n",
       "      <td>...</td>\n",
       "      <td>...</td>\n",
       "    </tr>\n",
       "    <tr>\n",
       "      <th>9735</th>\n",
       "      <td>28</td>\n",
       "      <td>52</td>\n",
       "      <td>8</td>\n",
       "      <td>19</td>\n",
       "      <td>4</td>\n",
       "      <td>8</td>\n",
       "      <td>5</td>\n",
       "      <td>25</td>\n",
       "      <td>18</td>\n",
       "      <td>4</td>\n",
       "      <td>5</td>\n",
       "      <td>5</td>\n",
       "      <td>11</td>\n",
       "      <td>1</td>\n",
       "    </tr>\n",
       "    <tr>\n",
       "      <th>9736</th>\n",
       "      <td>35</td>\n",
       "      <td>72</td>\n",
       "      <td>13</td>\n",
       "      <td>36</td>\n",
       "      <td>8</td>\n",
       "      <td>15</td>\n",
       "      <td>15</td>\n",
       "      <td>32</td>\n",
       "      <td>18</td>\n",
       "      <td>7</td>\n",
       "      <td>7</td>\n",
       "      <td>4</td>\n",
       "      <td>20</td>\n",
       "      <td>1</td>\n",
       "    </tr>\n",
       "    <tr>\n",
       "      <th>9737</th>\n",
       "      <td>27</td>\n",
       "      <td>57</td>\n",
       "      <td>7</td>\n",
       "      <td>24</td>\n",
       "      <td>18</td>\n",
       "      <td>33</td>\n",
       "      <td>9</td>\n",
       "      <td>29</td>\n",
       "      <td>17</td>\n",
       "      <td>17</td>\n",
       "      <td>6</td>\n",
       "      <td>15</td>\n",
       "      <td>22</td>\n",
       "      <td>1</td>\n",
       "    </tr>\n",
       "    <tr>\n",
       "      <th>9738</th>\n",
       "      <td>18</td>\n",
       "      <td>53</td>\n",
       "      <td>2</td>\n",
       "      <td>17</td>\n",
       "      <td>16</td>\n",
       "      <td>26</td>\n",
       "      <td>13</td>\n",
       "      <td>21</td>\n",
       "      <td>5</td>\n",
       "      <td>11</td>\n",
       "      <td>8</td>\n",
       "      <td>0</td>\n",
       "      <td>18</td>\n",
       "      <td>1</td>\n",
       "    </tr>\n",
       "    <tr>\n",
       "      <th>9739</th>\n",
       "      <td>23</td>\n",
       "      <td>41</td>\n",
       "      <td>8</td>\n",
       "      <td>14</td>\n",
       "      <td>16</td>\n",
       "      <td>19</td>\n",
       "      <td>1</td>\n",
       "      <td>20</td>\n",
       "      <td>11</td>\n",
       "      <td>9</td>\n",
       "      <td>8</td>\n",
       "      <td>1</td>\n",
       "      <td>10</td>\n",
       "      <td>1</td>\n",
       "    </tr>\n",
       "  </tbody>\n",
       "</table>\n",
       "<p>9740 rows × 14 columns</p>\n",
       "</div>"
      ],
      "text/plain": [
       "      FGM  FGA  FGM3  FGA3  FTM  FTA  OR  DR  Ast  TO  Stl  Blk  PF  target\n",
       "0      25   53     6    19   11   13   4  19    9  22    7    0  12       0\n",
       "1      21   50     7    20   11   13   4  30    7  16    5    6  17       0\n",
       "2      24   52     7    25   24   30  11  29   14  13    4    3  17       1\n",
       "3      25   56    10    24    8   11   6  14   17   8    3    3  16       0\n",
       "4      24   61     6    26   10   13  11  20   12  13    3    3  15       0\n",
       "...   ...  ...   ...   ...  ...  ...  ..  ..  ...  ..  ...  ...  ..     ...\n",
       "9735   28   52     8    19    4    8   5  25   18   4    5    5  11       1\n",
       "9736   35   72    13    36    8   15  15  32   18   7    7    4  20       1\n",
       "9737   27   57     7    24   18   33   9  29   17  17    6   15  22       1\n",
       "9738   18   53     2    17   16   26  13  21    5  11    8    0  18       1\n",
       "9739   23   41     8    14   16   19   1  20   11   9    8    1  10       1\n",
       "\n",
       "[9740 rows x 14 columns]"
      ]
     },
     "execution_count": 12,
     "metadata": {},
     "output_type": "execute_result"
    }
   ],
   "source": [
    "data_test"
   ]
  },
  {
   "cell_type": "code",
   "execution_count": 13,
   "id": "ca1880bf",
   "metadata": {},
   "outputs": [
    {
     "data": {
      "text/plain": [
       "Index(['FGM', 'FGA', 'FGM3', 'FGA3', 'FTM', 'FTA', 'OR', 'DR', 'Ast', 'TO',\n",
       "       'Stl', 'Blk', 'PF', 'target'],\n",
       "      dtype='object')"
      ]
     },
     "execution_count": 13,
     "metadata": {},
     "output_type": "execute_result"
    }
   ],
   "source": [
    "data_train.columns"
   ]
  },
  {
   "cell_type": "code",
   "execution_count": 14,
   "id": "f5388a71",
   "metadata": {},
   "outputs": [],
   "source": [
    "from sklearn.preprocessing import MinMaxScaler, StandardScaler, RobustScaler\n",
    "from tensorflow.keras.utils import to_categorical"
   ]
  },
  {
   "cell_type": "code",
   "execution_count": 15,
   "id": "8d4585d4",
   "metadata": {},
   "outputs": [],
   "source": [
    "X = data_train[['FGM', 'FGA', 'FGM3', 'FGA3', 'FTM', 'FTA', 'OR', 'DR', 'Ast', 'TO',\n",
    "       'Stl', 'Blk', 'PF']]\n",
    "y = data_train.target"
   ]
  },
  {
   "cell_type": "code",
   "execution_count": 16,
   "id": "defe31c6",
   "metadata": {},
   "outputs": [],
   "source": [
    "min_max_scaler = RobustScaler()\n",
    "# X_train = min_max_scaler.fit_transform(X)\n",
    "y_train = to_categorical(y)\n",
    "X_train = X"
   ]
  },
  {
   "cell_type": "code",
   "execution_count": 17,
   "id": "7cd246a1",
   "metadata": {},
   "outputs": [],
   "source": [
    "X = data_test[['FGM', 'FGA', 'FGM3', 'FGA3', 'FTM', 'FTA', 'OR', 'DR', 'Ast', 'TO',\n",
    "       'Stl', 'Blk', 'PF']]\n",
    "y = data_test.target"
   ]
  },
  {
   "cell_type": "code",
   "execution_count": 18,
   "id": "9d63895f",
   "metadata": {},
   "outputs": [],
   "source": [
    "min_max_scaler = RobustScaler()\n",
    "# X_test = min_max_scaler.fit_transform(X)\n",
    "y_test = to_categorical(y)\n",
    "X_test = X"
   ]
  },
  {
   "cell_type": "code",
   "execution_count": 19,
   "id": "1b771aee",
   "metadata": {},
   "outputs": [],
   "source": [
    "from tensorflow.keras.utils import to_categorical\n",
    "from tensorflow.keras.models import Sequential\n",
    "from tensorflow.keras.layers import Dense, Dropout, BatchNormalization\n",
    "from sklearn.preprocessing import MinMaxScaler\n",
    "from tensorflow.keras.optimizers import Adam\n",
    "from tensorflow.keras.callbacks import EarlyStopping"
   ]
  },
  {
   "cell_type": "code",
   "execution_count": 20,
   "id": "5c8ce549",
   "metadata": {},
   "outputs": [],
   "source": [
    "model = Sequential()\n",
    "model.add(Dense(32, activation='relu', input_shape=(X.shape[1],)))\n",
    "model.add(BatchNormalization())\n",
    "model.add(Dense(32, activation='relu'))\n",
    "model.add(Dense(16, activation='relu'))\n",
    "model.add(Dense(8, activation='relu'))\n",
    "model.add(Dense(2, activation='softmax'))"
   ]
  },
  {
   "cell_type": "code",
   "execution_count": 21,
   "id": "44f99d83",
   "metadata": {},
   "outputs": [
    {
     "name": "stdout",
     "output_type": "stream",
     "text": [
      "Model: \"sequential\"\n",
      "_________________________________________________________________\n",
      " Layer (type)                Output Shape              Param #   \n",
      "=================================================================\n",
      " dense (Dense)               (None, 32)                448       \n",
      "                                                                 \n",
      " batch_normalization (BatchN  (None, 32)               128       \n",
      " ormalization)                                                   \n",
      "                                                                 \n",
      " dense_1 (Dense)             (None, 32)                1056      \n",
      "                                                                 \n",
      " dense_2 (Dense)             (None, 16)                528       \n",
      "                                                                 \n",
      " dense_3 (Dense)             (None, 8)                 136       \n",
      "                                                                 \n",
      " dense_4 (Dense)             (None, 2)                 18        \n",
      "                                                                 \n",
      "=================================================================\n",
      "Total params: 2,314\n",
      "Trainable params: 2,250\n",
      "Non-trainable params: 64\n",
      "_________________________________________________________________\n"
     ]
    }
   ],
   "source": [
    "earlyStop = EarlyStopping(monitor='val_loss', patience=3, restore_best_weights=True)\n",
    "adam = Adam(learning_rate=5e-8)\n",
    "model.compile(optimizer='adam', loss='binary_crossentropy', metrics=['acc'])\n",
    "model.summary()"
   ]
  },
  {
   "cell_type": "code",
   "execution_count": null,
   "id": "04f21635",
   "metadata": {},
   "outputs": [
    {
     "name": "stdout",
     "output_type": "stream",
     "text": [
      "Epoch 1/50\n",
      "9418/9418 [==============================] - 13s 1ms/step - loss: 0.3305 - acc: 0.8566 - val_loss: 0.2877 - val_acc: 0.8771\n",
      "Epoch 2/50\n",
      "6394/9418 [===================>..........] - ETA: 3s - loss: 0.3147 - acc: 0.8659"
     ]
    }
   ],
   "source": [
    "history = model.fit(X_train, y_train, epochs=50, batch_size=16, validation_split=0.3, callbacks=[earlyStop])"
   ]
  },
  {
   "cell_type": "code",
   "execution_count": null,
   "id": "76393017",
   "metadata": {},
   "outputs": [],
   "source": [
    "plt.plot(history.history['loss'])\n",
    "plt.plot(history.history['val_loss']);"
   ]
  },
  {
   "cell_type": "markdown",
   "id": "afebd3e6",
   "metadata": {},
   "source": [
    "### testing"
   ]
  },
  {
   "cell_type": "code",
   "execution_count": null,
   "id": "539246f5",
   "metadata": {},
   "outputs": [],
   "source": [
    "y_true_winners = winning_team_test.iloc[:,-1]\n",
    "y_true_losers = losing_team_test.iloc[:,-1]\n",
    "X_true_winners = winning_team_test.iloc[:,:-1]\n",
    "X_true_losers = losing_team_test.iloc[:,:-1]"
   ]
  },
  {
   "cell_type": "code",
   "execution_count": null,
   "id": "0f929402",
   "metadata": {},
   "outputs": [],
   "source": [
    "min_max_scaler_test = RobustScaler()"
   ]
  },
  {
   "cell_type": "code",
   "execution_count": null,
   "id": "2fd73ffe",
   "metadata": {},
   "outputs": [],
   "source": [
    "# X_true_winners = min_max_scaler_test.fit_transform(X_true_winners)\n",
    "# X_true_losers = min_max_scaler_test.fit_transform(X_true_losers)"
   ]
  },
  {
   "cell_type": "code",
   "execution_count": null,
   "id": "0daa9dd4",
   "metadata": {},
   "outputs": [],
   "source": [
    "winners_predict = model.predict(X_true_winners)\n",
    "losers_predict = model.predict(X_true_losers)\n",
    "# winners_predict = model.predict(average_stats_past_year_winners)\n",
    "# losers_predict = model.predict(average_stats_past_year_losers)"
   ]
  },
  {
   "cell_type": "code",
   "execution_count": null,
   "id": "a2ee43b7",
   "metadata": {},
   "outputs": [],
   "source": [
    "winners_predict = np.argmax(winners_predict, axis=1)\n",
    "losers_predict = np.argmax(losers_predict, axis=1)"
   ]
  },
  {
   "cell_type": "code",
   "execution_count": null,
   "id": "b68e507e",
   "metadata": {},
   "outputs": [],
   "source": [
    "count = 0\n",
    "for x, y in zip(winners_predict, losers_predict):\n",
    "#     print(x,y)\n",
    "    if x==1 and y==0:\n",
    "        count += 1\n",
    "print(f\"The accuracy is: {(float(count)/len(winners_predict))*100.0}%\")"
   ]
  },
  {
   "cell_type": "markdown",
   "id": "639fbe3f",
   "metadata": {},
   "source": [
    "## Results\n",
    "\n",
    "All these results are when we know the values of different fields of the teams.\n",
    "\n",
    "1. With MinMaxScaler the accuracy for the results of 2024 regular season is `22.80%`\n",
    "2. With StandardScaler the accuracy for the results of 2024 regular season is `31.08%`\n",
    "3. With RobustScaler the accuracy for the results of 2024 regular season is `30.74%`\n",
    "4. With no normalisation the accuracy for the results of 2024 regular season is `78.18%`\n"
   ]
  },
  {
   "cell_type": "code",
   "execution_count": null,
   "id": "5ecd5391",
   "metadata": {},
   "outputs": [],
   "source": [
    "model.save(\"./data/past_points_average.keras\")"
   ]
  },
  {
   "cell_type": "markdown",
   "id": "b6396d2c",
   "metadata": {},
   "source": [
    "# Checkpoint 1"
   ]
  },
  {
   "cell_type": "code",
   "execution_count": null,
   "id": "e6478c9c",
   "metadata": {},
   "outputs": [],
   "source": [
    "ncaa_final_winners = pd.read_csv(\"./data/ncaa_finals.csv\")\n",
    "ncaa_final_winners.head(3)"
   ]
  },
  {
   "cell_type": "code",
   "execution_count": null,
   "id": "533c3af4",
   "metadata": {},
   "outputs": [],
   "source": [
    "test_data_winningIds = test_data.WTeamID\n",
    "test_data_losingIds = test_data.LTeamID\n",
    "test_data_tmp_df = pd.DataFrame({'winnersId': test_data_winningIds, 'losersId': test_data_losingIds})\n",
    "all_win_lose_combination = pd.concat([ncaa_final_winners, test_data_tmp_df])\n",
    "all_win_lose_combination"
   ]
  },
  {
   "cell_type": "code",
   "execution_count": null,
   "id": "66bebd30",
   "metadata": {},
   "outputs": [],
   "source": [
    "from tqdm import tqdm"
   ]
  },
  {
   "cell_type": "code",
   "execution_count": null,
   "id": "7d4102db",
   "metadata": {},
   "outputs": [],
   "source": [
    "# can use dictionary here\n",
    "\n",
    "average_stats_past_year_winners = []\n",
    "average_stats_past_year_losers = []\n",
    "for winnerId in tqdm(all_win_lose_combination.winnersId):\n",
    "    df_tmp_win = all_data[(all_data.WTeamID == winnerId) & (all_data.Season == 2023)]\n",
    "    df_tmp_win = df_tmp_win[['WFGM', 'WFGA', 'WFGM3', 'WFGA3', 'WFTM', 'WFTA', 'WOR', 'WDR', 'WAst', 'WTO', \n",
    "                         'WStl', 'WBlk', 'WPF']]\n",
    "    \n",
    "#     df_tmp_lose = all_data[(all_data.LTeamID == winnerId) & (all_data.Season == 2023)]\n",
    "#     df_tmp_lose = df_tmp_lose[['LFGM', 'LFGA', 'LFGM3', 'LFGA3', 'LFTM', 'LFTA', 'LOR', 'LDR', 'LAst', 'LTO', \n",
    "#                         'LStl', 'LBlk', 'LPF']]\n",
    "    win_values = df_tmp_win.describe().mean().values\n",
    "#     lose_values = df_tmp_lose.describe().mean().values\n",
    "#     average_stats = (win_values + lose_values)/2.0\n",
    "#     average_stats_past_year_winners.append(average_stats)\n",
    "    average_stats_past_year_winners.append(win_values)\n",
    "    \n",
    "for loserId in tqdm(all_win_lose_combination.losersId):\n",
    "    df_tmp_win = all_data[(all_data.WTeamID == loserId) & (all_data.Season == 2023)]\n",
    "    df_tmp_win = df_tmp_win[['WFGM', 'WFGA', 'WFGM3', 'WFGA3', 'WFTM', 'WFTA', 'WOR', 'WDR', 'WAst', 'WTO', \n",
    "                         'WStl', 'WBlk', 'WPF']]\n",
    "    \n",
    "#     df_tmp_lose = all_data[(all_data.LTeamID == loserId) & (all_data.Season == 2023)]\n",
    "#     df_tmp_lose = df_tmp_lose[['LFGM', 'LFGA', 'LFGM3', 'LFGA3', 'LFTM', 'LFTA', 'LOR', 'LDR', 'LAst', 'LTO', \n",
    "#                         'LStl', 'LBlk', 'LPF']]\n",
    "    win_values = df_tmp_win.describe().mean().values\n",
    "#     lose_values = df_tmp_lose.describe().mean().values\n",
    "#     average_stats = (win_values + lose_values)/2.0\n",
    "#     average_stats_past_year_losers.append(average_stats)\n",
    "    average_stats_past_year_losers.append(win_values)"
   ]
  },
  {
   "cell_type": "code",
   "execution_count": null,
   "id": "eae163a3",
   "metadata": {},
   "outputs": [],
   "source": [
    "average_stats_past_year_winners = np.array(average_stats_past_year_winners)\n",
    "average_stats_past_year_losers = np.array(average_stats_past_year_losers)"
   ]
  },
  {
   "cell_type": "code",
   "execution_count": null,
   "id": "5fb229e9",
   "metadata": {},
   "outputs": [],
   "source": [
    "prediction = []\n",
    "for winner, loser in tqdm(zip(average_stats_past_year_winners, average_stats_past_year_losers)):\n",
    "    winner = winner - loser\n",
    "    prediction.append(np.argmax(model.predict(np.reshape(winner, (1,13)), verbose=False)))"
   ]
  },
  {
   "cell_type": "code",
   "execution_count": null,
   "id": "4e8b62c3",
   "metadata": {},
   "outputs": [],
   "source": [
    "(sum(prediction)/len(prediction))*100"
   ]
  },
  {
   "cell_type": "markdown",
   "id": "3f396f2c",
   "metadata": {},
   "source": [
    "# Checkpoint 2"
   ]
  },
  {
   "cell_type": "code",
   "execution_count": null,
   "id": "8b131d8d",
   "metadata": {},
   "outputs": [],
   "source": [
    "# implementing RandomForest\n",
    "\n",
    "from sklearn.ensemble import RandomForestClassifier"
   ]
  },
  {
   "cell_type": "code",
   "execution_count": null,
   "id": "00873166",
   "metadata": {},
   "outputs": [],
   "source": [
    "clf = RandomForestClassifier()\n",
    "clf.fit(X_train, y_train)"
   ]
  },
  {
   "cell_type": "code",
   "execution_count": null,
   "id": "17064e19",
   "metadata": {},
   "outputs": [],
   "source": [
    "winners_predict_rf = clf.predict(average_stats_past_year_winners)\n",
    "losers_predict_rf = clf.predict(average_stats_past_year_losers)"
   ]
  },
  {
   "cell_type": "code",
   "execution_count": null,
   "id": "2187ed09",
   "metadata": {},
   "outputs": [],
   "source": [
    "winners_predict_rf = np.argmax(winners_predict_rf, axis=1)\n",
    "losers_predict_rf = np.argmax(losers_predict_rf, axis=1)"
   ]
  },
  {
   "cell_type": "code",
   "execution_count": null,
   "id": "2588349a",
   "metadata": {},
   "outputs": [],
   "source": [
    "count = 0\n",
    "for x, y in zip(winners_predict_rf, losers_predict_rf):\n",
    "    if x==1 and y==0:\n",
    "        count += 1\n",
    "print(f\"The accuracy is: {(float(count)/len(winners_predict))*100.0}% for Random Forest\")"
   ]
  },
  {
   "cell_type": "code",
   "execution_count": null,
   "id": "41f95a6f",
   "metadata": {},
   "outputs": [],
   "source": []
  }
 ],
 "metadata": {
  "kernelspec": {
   "display_name": "Python 3 (ipykernel)",
   "language": "python",
   "name": "python3"
  },
  "language_info": {
   "codemirror_mode": {
    "name": "ipython",
    "version": 3
   },
   "file_extension": ".py",
   "mimetype": "text/x-python",
   "name": "python",
   "nbconvert_exporter": "python",
   "pygments_lexer": "ipython3",
   "version": "3.9.12"
  }
 },
 "nbformat": 4,
 "nbformat_minor": 5
}
