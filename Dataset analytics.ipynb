{
 "cells": [
  {
   "cell_type": "markdown",
   "id": "a8baff55",
   "metadata": {},
   "source": [
    "<div style=\"font-family: Times New Roman; font-size: 18px;\">\n",
    "<center>\n",
    "    <h1>March Madness 2024</h1>\n",
    "</center>\n",
    "</div>"
   ]
  },
  {
   "cell_type": "code",
   "execution_count": null,
   "id": "150edd33",
   "metadata": {},
   "outputs": [],
   "source": [
    "import pandas as pd\n",
    "import numpy as np\n",
    "from summarytools import dfSummary, tabset\n",
    "import warnings\n",
    "#pd.set_option('display.max_columns', None)\n",
    "warnings.filterwarnings('ignore')"
   ]
  },
  {
   "cell_type": "markdown",
   "id": "780a9689",
   "metadata": {},
   "source": [
    "<div style=\"font-family: Times New Roman; font-size: 18px;\">\n",
    "    <h2>Section 1 - The Basics</h2>\n",
    "</div>"
   ]
  },
  {
   "cell_type": "code",
   "execution_count": 9,
   "id": "a8a84923",
   "metadata": {},
   "outputs": [],
   "source": [
    "men_teams = pd.read_csv(r\"data\\MTeams.csv\")\n",
    "women_teams = pd.read_csv(r\"data\\WTeams.csv\")\n",
    "\n",
    "men_seasons = pd.read_csv(r\"data\\MSeasons.csv\")\n",
    "women_seasons = pd.read_csv(r\"data\\WSeasons.csv\")\n",
    "\n",
    "men_torneyseeds = pd.read_csv(r\"data\\MNCAATourneySeeds.csv\")\n",
    "women_torneyseeds = pd.read_csv(r\"data\\WNCAATourneySeeds.csv\")\n",
    "\n",
    "regular_men_game_results = pd.read_csv(r\"data\\MRegularSeasonCompactResults.csv\")\n",
    "regular_women_game_results = pd.read_csv(r\"data\\WRegularSeasonCompactResults.csv\")\n",
    "\n",
    "ncaa_men_game_results = pd.read_csv(r\"data\\MNCAATourneyCompactResults.csv\")\n",
    "ncaa_women_game_results = pd.read_csv(r\"data\\WNCAATourneyCompactResults.csv\")"
   ]
  },
  {
   "cell_type": "code",
   "execution_count": null,
   "id": "cccc75c2",
   "metadata": {
    "scrolled": true
   },
   "outputs": [],
   "source": [
    "tabset({\n",
    "    'Teams (Men)': dfSummary(men_teams).render(),\n",
    "    'Teams (Women)': dfSummary(women_teams).render(),\n",
    "    #\n",
    "    'Seasons (Men)': dfSummary(men_seasons).render(),\n",
    "    'Seasons (Women)': dfSummary(women_seasons).render(),\n",
    "    #\n",
    "    'Seeds (Men)': dfSummary(men_torneyseeds).render(),\n",
    "    'Seeds (Women)': dfSummary(women_torneyseeds).render(),\n",
    "    #\n",
    "    'Game Results (Men)': dfSummary(regular_men_game_results).render(),\n",
    "    'Game results (Women)': dfSummary(regular_women_game_results).render(),\n",
    "    #\n",
    "    'NCAA Game Results (Men)': dfSummary(men_torneyseeds).render(),\n",
    "    'NCAA Game Results (Women)': dfSummary(women_torneyseeds).render()\n",
    "})"
   ]
  },
  {
   "cell_type": "markdown",
   "id": "884f1d7b",
   "metadata": {},
   "source": [
    "<div style=\"font-family: Times New Roman; font-size: 18px;\">\n",
    "    \n",
    "</div>"
   ]
  },
  {
   "cell_type": "markdown",
   "id": "fdce17ab",
   "metadata": {},
   "source": [
    "<div style=\"font-family: Times New Roman; font-size: 18px;\">\n",
    "    <h2>Section 2 - Team Box Scores</h2>\n",
    "</div>"
   ]
  },
  {
   "cell_type": "markdown",
   "id": "51a12c9a",
   "metadata": {},
   "source": [
    "<div style=\"font-family: Times New Roman; font-size: 16px;\">\n",
    "    <p>Team Box Scores are provided in \"Detailed Results\" files rather than \"Compact Results\" files. However, the two files are strongly related.\n",
    "    <br>\n",
    "    <br>\n",
    "In a Detailed Results file, the first eight columns (<b>Season, DayNum, WTeamID, WScore, LTeamID, LScore, WLoc, and NumOT</b>) are exactly the same as a Compact Results file. However, in a Detailed Results file, there are many additional columns. The column names should be self-explanatory to basketball fans (as above, \"W\" or \"L\" refers to the winning or losing team):</p>\n",
    "    <ul>\n",
    "        <li><b>WFGM</b> - field goals made (by the winning team)</li>\n",
    "        <li><b>WFGA</b> - field goals attempted (by the winning team)</li>\n",
    "        <li><b>WFGM3</b> - three pointers made (by the winning team)</li>\n",
    "        <li><b>WFGA3</b> - three pointers attempted (by the winning team)</li>\n",
    "        <li><b>WFTM</b> - free throws made (by the winning team)</li>\n",
    "        <li><b>WFTA</b> - free throws attempted (by the winning team)</li>\n",
    "        <li><b>WOR</b> - offensive rebounds (pulled by the winning team)</li>\n",
    "        <li><b>WDR</b> - defensive rebounds (pulled by the winning team)</li>\n",
    "        <li><b>WAst</b> - assists (by the winning team)</li>\n",
    "        <li><b>WTO</b> - turnovers committed (by the winning team)</li>\n",
    "        <li><b>WStl</b> - steals (accomplished by the winning team)</li>\n",
    "        <li><b>WBlk</b> - blocks (accomplished by the winning team)</li>\n",
    "        <li><b>WPF</b> - personal fouls committed (by the winning team)</li>\n",
    "    </ul>\n",
    "    <p>(and then the same set of stats from the perspective of the losing team: <b>LFGM</b> is the number of field goals made by the losing team, and so on up to <b>LPF</b>).</p>\n",
    "    <p><b>Note:</b> by convention, \"field goals made\" (either WFGM or LFGM) refers to the total number of fields goals made by a team, a combination of both two-point field goals and three-point field goals. And \"three point field goals made\" (either WFGM3 or LFGM3) is just the three-point fields goals made, of course. So if you want to know specifically about two-point field goals, you have to subtract one from the other (e.g., WFGM - WFGM3). And the total number of points scored is most simply expressed as 2*FGM + FGM3 + FTM.</p>\n",
    "</div>"
   ]
  },
  {
   "cell_type": "code",
   "execution_count": 12,
   "id": "8a327fb0",
   "metadata": {},
   "outputs": [],
   "source": [
    "men_regseason_results_det = pd.read_csv(r\"data\\MRegularSeasonDetailedResults.csv\")\n",
    "women_regseason_results_det = pd.read_csv(r\"data\\WRegularSeasonDetailedResults.csv\")\n",
    "\n",
    "ncaa_men_results_det = pd.read_csv(r\"data\\MNCAATourneyDetailedResults.csv\")\n",
    "ncaa_women_results_det = pd.read_csv(r\"data\\WNCAATourneyDetailedResults.csv\")"
   ]
  },
  {
   "cell_type": "code",
   "execution_count": null,
   "id": "b13b6c25",
   "metadata": {},
   "outputs": [],
   "source": [
    "men_regseason_results_det.head()"
   ]
  },
  {
   "cell_type": "code",
   "execution_count": null,
   "id": "d4bdbf8a",
   "metadata": {},
   "outputs": [],
   "source": [
    "tabset({\n",
    "    'Regular season results (Men)': dfSummary(men_regseason_results_det).render(),\n",
    "    'Regular season results (Women)': dfSummary(women_regseason_results_det).render(),\n",
    "    #\n",
    "    'NCAA results (Men)': dfSummary(ncaa_men_results_det).render(),\n",
    "    'NCAA results (Women)': dfSummary(ncaa_women_results_det).render()\n",
    "})"
   ]
  },
  {
   "cell_type": "markdown",
   "id": "e8f190d4",
   "metadata": {},
   "source": [
    "<div style=\"font-family: Times New Roman; font-size: 18px;\">\n",
    "    <h2>Section 3 - Geography</h2>\n",
    "</div>"
   ]
  },
  {
   "cell_type": "markdown",
   "id": "db16808c",
   "metadata": {},
   "source": [
    "<div style=\"font-family: Times New Roman; font-size: 16px;\">\n",
    "    <p> This section  provides a master list of cities that have been locations for games played. Please notice that the Cities and Conferences files are the only two that don't start with an M; this is because the data files are identical between men's and women's data, so you don't need to maintain separate listings of cities or conferences across the two datasets. Also note that if you created any supplemental data in previous years on cities (latitude/longitude, altitude, city-to-city distances, etc.), the CityID's match between previous years and this year, so you should be able to re-use that information.</p>\n",
    "    <ul>\n",
    "        <li><b>CityID</b> - a four-digit ID number uniquely identifying a city.</li>\n",
    "        <li><b>City</b> - the text name of the city.</li>\n",
    "        <li><b>State</b> - the state abbreviation of the state that the city is in. In a few rare cases, the game location is not inside one of the 50 U.S. states and so other abbreviations are used. For instance Cancun, Mexico has a state abbreviation of MX.</li>\n",
    "    </ul>\n",
    "</div>"
   ]
  },
  {
   "cell_type": "code",
   "execution_count": null,
   "id": "306a5277",
   "metadata": {},
   "outputs": [],
   "source": [
    "cities = pd.read_csv(r\"data\\Cities.csv\")\n",
    "\n",
    "cities_men = pd.read_csv(r\"data\\MGameCities.csv\")\n",
    "cities_women = pd.read_csv(r\"data\\WGameCities.csv\")"
   ]
  },
  {
   "cell_type": "code",
   "execution_count": null,
   "id": "2843ab8b",
   "metadata": {
    "scrolled": true
   },
   "outputs": [],
   "source": [
    "tabset({\n",
    "    'Cities(All)': dfSummary(cities).render(),\n",
    "    #\n",
    "    'Cities (Men games)': dfSummary(cities_men).render(),\n",
    "    'Cities (Women games)': dfSummary(cities_women).render()\n",
    "})"
   ]
  },
  {
   "cell_type": "markdown",
   "id": "e4a26ca4",
   "metadata": {},
   "source": [
    "<div style=\"font-family: Times New Roman; font-size: 18px;\">\n",
    "    <h2>Section 4 - Public rankings</h2>\n",
    "</div>"
   ]
  },
  {
   "cell_type": "code",
   "execution_count": null,
   "id": "4f2e9307",
   "metadata": {
    "scrolled": true
   },
   "outputs": [],
   "source": [
    "rankings = pd.read_csv(r\"data\\MMasseyOrdinals.csv\")\n",
    "dfSummary(rankings)"
   ]
  },
  {
   "cell_type": "markdown",
   "id": "9cd8b182",
   "metadata": {},
   "source": [
    "<div style=\"font-family: Times New Roman; font-size: 18px;\">\n",
    "    <h2>Section 5 - Supplements</h2>\n",
    "</div>"
   ]
  },
  {
   "cell_type": "code",
   "execution_count": null,
   "id": "c98c8cdb",
   "metadata": {},
   "outputs": [],
   "source": [
    "tournament_slots_men = pd.read_csv(r\"data\\MNCAATourneySlots.csv\")\n",
    "tournament_slots_women= pd.read_csv(r\"data\\WNCAATourneySlots.csv\")"
   ]
  },
  {
   "cell_type": "code",
   "execution_count": null,
   "id": "25a6ce41",
   "metadata": {
    "scrolled": true
   },
   "outputs": [],
   "source": [
    "tabset({\n",
    "    'Tournament_slots(Men games)': dfSummary(tournament_slots_men).render(),\n",
    "    'Tournament_slots(Women games)': dfSummary(tournament_slots_women).render()\n",
    "})"
   ]
  },
  {
   "cell_type": "code",
   "execution_count": null,
   "id": "90da5c52",
   "metadata": {},
   "outputs": [],
   "source": [
    "tournament_slots_men.tail()"
   ]
  },
  {
   "cell_type": "code",
   "execution_count": null,
   "id": "cd14d80f",
   "metadata": {},
   "outputs": [],
   "source": [
    "seed_distribution = pd.read_csv(r\"data\\2024_tourney_seeds.csv\")\n",
    "seed_distribution.head()"
   ]
  },
  {
   "cell_type": "code",
   "execution_count": null,
   "id": "1e152f0a",
   "metadata": {},
   "outputs": [],
   "source": [
    "men_teams_2024 = ['Connecticut','Stetson','FL Atlantic','Northwestern','San Diego St','UAB','Auburn','Yale','BYU',\n",
    "                  'Duquesne','Illinois','Morehead St','Washington St','Drake','Iowa St','S Dakota St','North Carolina',\n",
    "                  'Howard','Wagner','Mississippi St','Michigan St',\"St Mary's CA\",'Grand Canyon','Alabama',\n",
    "                  'Col Charleston','Clemson','New Mexico','Baylor','Colgate','Dayton','Nevada','Arizona','Long Beach St',\n",
    "                  'Houston','Longwood','Nebraska', 'Texas A&M','Wisconsin','James Madison','Duke','Vermont','Texas Tech',\n",
    "                  'NC State','Kentucky','Oakland','Florida','Boise St','Colorado','Marquette','Kentucky','Purdue',\n",
    "                  'Montana St','Grambling','Utah St','TCU','Gonzaga','McNeese St','Kansas','Samford','South Carolina',\n",
    "                  'Oregon','Creighton','Akron','Texas', 'Virginia','Colorado St','Tennessee',\"St Peter's\"]"
   ]
  },
  {
   "cell_type": "code",
   "execution_count": null,
   "id": "d6c3267b",
   "metadata": {},
   "outputs": [],
   "source": [
    "men_regseason_results_det_ml = men_regseason_results_det[(men_regseason_results_det.Season >= 2016) & (men_regseason_results_det.Season <2025) ]\n",
    "women_regseason_results_det_ml = women_regseason_results_det[(women_regseason_results_det.Season >= 2016) & (women_regseason_results_det.Season <2025)]\n",
    "\n",
    "ncaa_men_results_det_ml = ncaa_men_results_det[(ncaa_men_results_det.Season >= 2016) & (ncaa_men_results_det.Season < 2025)]"
   ]
  },
  {
   "cell_type": "code",
   "execution_count": null,
   "id": "fbcd4c56",
   "metadata": {},
   "outputs": [],
   "source": [
    "men_regseason_results_det_ml['winner'] = men_regseason_results_det_ml.WTeamID\n",
    "\n",
    "ncaa_men_results_det_ml['winner'] = ncaa_men_results_det_ml.WTeamID"
   ]
  },
  {
   "cell_type": "code",
   "execution_count": null,
   "id": "135c5207",
   "metadata": {},
   "outputs": [],
   "source": [
    "men_regseason_results_det_ml.head(2)"
   ]
  },
  {
   "cell_type": "code",
   "execution_count": null,
   "id": "7f1c2fb0",
   "metadata": {},
   "outputs": [],
   "source": [
    "ncaa_men_results_det_ml.head(2)"
   ]
  },
  {
   "cell_type": "code",
   "execution_count": null,
   "id": "b90838d7",
   "metadata": {},
   "outputs": [],
   "source": [
    "men_regseason_results_det_ml.drop(columns=['DayNum'], inplace=True)\n",
    "ncaa_men_results_det_ml.drop(columns=['DayNum'], inplace=True)\n",
    "\n",
    "men_regseason_results_det_ml.head(2)"
   ]
  },
  {
   "cell_type": "code",
   "execution_count": null,
   "id": "012988a2",
   "metadata": {},
   "outputs": [],
   "source": [
    "ncaa_men_results_det_ml.head(2)"
   ]
  },
  {
   "cell_type": "code",
   "execution_count": null,
   "id": "9026e616",
   "metadata": {},
   "outputs": [],
   "source": [
    "men_regseason_results_det_ml['WTeamID'] = men_regseason_results_det_ml['WTeamID'].astype(str)\n",
    "men_regseason_results_det_ml['LTeamID'] = men_regseason_results_det_ml['LTeamID'].astype(str)\n",
    "men_regseason_results_det_ml['winner'] = men_regseason_results_det_ml['winner'].astype(str)\n",
    "\n",
    "ncaa_men_results_det_ml['WTeamID'] = ncaa_men_results_det_ml[\"WTeamID\"].astype(str)\n",
    "ncaa_men_results_det_ml['LTeamID'] = ncaa_men_results_det_ml[\"LTeamID\"].astype(str)\n",
    "ncaa_men_results_det_ml['winner'] = ncaa_men_results_det_ml[\"winner\"].astype(str)"
   ]
  },
  {
   "cell_type": "code",
   "execution_count": null,
   "id": "55071986",
   "metadata": {},
   "outputs": [],
   "source": [
    "#Conversion og team columns\n",
    "men_regseason_results_det_ml['match'] = men_regseason_results_det_ml['WTeamID'] + \" vs. \" + men_regseason_results_det_ml['LTeamID']\n",
    "ncaa_men_results_det_ml['match'] = ncaa_men_results_det_ml['WTeamID'] + \" vs. \" + ncaa_men_results_det_ml['LTeamID']"
   ]
  },
  {
   "cell_type": "code",
   "execution_count": null,
   "id": "15c46955",
   "metadata": {},
   "outputs": [],
   "source": [
    "#dropping team columns\n",
    "men_regseason_results_det_ml.drop(columns=['WTeamID','LTeamID'], inplace=True)\n",
    "ncaa_men_results_det_ml.drop(columns=['WTeamID','LTeamID'], inplace=True)\n",
    "men_regseason_results_det_ml.head(3)"
   ]
  },
  {
   "cell_type": "code",
   "execution_count": null,
   "id": "f68cf55f",
   "metadata": {},
   "outputs": [],
   "source": [
    "#rearranging the columns\n",
    "men_regseason_results_det_ml = men_regseason_results_det_ml[['Season','match', 'WScore', 'LScore', 'WLoc', 'NumOT', 'WFGM', \n",
    "                                                             'WFGA', 'WFGM3','WFGA3', 'WFTM', 'WFTA', 'WOR', 'WDR', 'WAst',\n",
    "                                                             'WTO', 'WStl', 'WBlk','WPF', 'LFGM', 'LFGA', 'LFGM3', 'LFGA3',\n",
    "                                                             'LFTM', 'LFTA', 'LOR', 'LDR','LAst', 'LTO', 'LStl', 'LBlk', \n",
    "                                                             'LPF', 'winner']]"
   ]
  },
  {
   "cell_type": "code",
   "execution_count": null,
   "id": "6094e4c1",
   "metadata": {},
   "outputs": [],
   "source": [
    "ncaa_men_results_det_ml = ncaa_men_results_det_ml[['Season','match', 'WScore', 'LScore', 'WLoc', 'NumOT', 'WFGM',\n",
    "                                                   'WFGA', 'WFGM3','WFGA3', 'WFTM', 'WFTA', 'WOR', 'WDR', 'WAst',\n",
    "                                                   'WTO', 'WStl', 'WBlk','WPF', 'LFGM', 'LFGA', 'LFGM3', 'LFGA3',\n",
    "                                                   'LFTM', 'LFTA', 'LOR', 'LDR','LAst', 'LTO', 'LStl', 'LBlk', \n",
    "                                                   'LPF', 'winner']]"
   ]
  },
  {
   "cell_type": "code",
   "execution_count": null,
   "id": "90c1f082",
   "metadata": {},
   "outputs": [],
   "source": [
    "men_regseason_results_det_ml.head(3)"
   ]
  },
  {
   "cell_type": "code",
   "execution_count": null,
   "id": "9e8350c1",
   "metadata": {},
   "outputs": [],
   "source": [
    "ncaa_men_results_det_ml.head(3)"
   ]
  },
  {
   "cell_type": "code",
   "execution_count": null,
   "id": "0395ddad",
   "metadata": {},
   "outputs": [],
   "source": [
    "#Concat the data\n",
    "ml_data = pd.concat([men_regseason_results_det_ml, ncaa_men_results_det_ml])\n",
    "ml_data"
   ]
  },
  {
   "cell_type": "code",
   "execution_count": null,
   "id": "e90480bd",
   "metadata": {},
   "outputs": [],
   "source": [
    "#Label Encoding\n",
    "from sklearn import preprocessing\n",
    "label_encoder = preprocessing.LabelEncoder()"
   ]
  },
  {
   "cell_type": "code",
   "execution_count": null,
   "id": "a25b8b44",
   "metadata": {},
   "outputs": [],
   "source": [
    "ml_data.match = label_encoder.fit_transform(ml_data.match)\n",
    "ml_data.WLoc = label_encoder.fit_transform(ml_data.WLoc)\n",
    "ml_data.winner = label_encoder.fit_transform(ml_data.winner)"
   ]
  },
  {
   "cell_type": "code",
   "execution_count": null,
   "id": "44e7b9ae",
   "metadata": {},
   "outputs": [],
   "source": [
    "ml_data.head(3)"
   ]
  },
  {
   "cell_type": "code",
   "execution_count": null,
   "id": "7999e77c",
   "metadata": {},
   "outputs": [],
   "source": [
    "ml_data = ml_data.sort_values(by='Season', ascending=True)\n",
    "ml_data"
   ]
  },
  {
   "cell_type": "code",
   "execution_count": null,
   "id": "3e08a7a6",
   "metadata": {
    "scrolled": true
   },
   "outputs": [],
   "source": [
    "ml_data.info()"
   ]
  },
  {
   "cell_type": "code",
   "execution_count": null,
   "id": "f95fc4d8",
   "metadata": {},
   "outputs": [],
   "source": [
    "X = ml_data.copy()\n",
    "X = X.drop(columns=['winner'], inplace=True)\n",
    "y = np.array(ml_data)"
   ]
  },
  {
   "cell_type": "code",
   "execution_count": null,
   "id": "8f944bfd",
   "metadata": {},
   "outputs": [],
   "source": [
    "ml_data.match.value_counts()"
   ]
  },
  {
   "cell_type": "code",
   "execution_count": null,
   "id": "aec28f31",
   "metadata": {},
   "outputs": [],
   "source": [
    "new_df_win = ml_data[['WFGM','WFGA', 'WFGM3','WFGA3', 'WFTM', 'WFTA', 'WOR', 'WDR', 'WAst','WTO', 'WStl', 'WBlk','WPF']]\n",
    "new_df_lose = ml_data[['LFGM', 'LFGA', 'LFGM3', 'LFGA3','LFTM', 'LFTA', 'LOR', 'LDR','LAst', 'LTO', 'LStl', 'LBlk', 'LPF']]"
   ]
  },
  {
   "cell_type": "code",
   "execution_count": null,
   "id": "f7d7f15c",
   "metadata": {},
   "outputs": [],
   "source": [
    "new_df_win.rename(columns = lambda x: x[1:],inplace = True)\n",
    "new_df_lose.rename(columns = lambda x: x[1:],inplace = True)\n",
    "\n",
    "new_df_win['target'] = 1\n",
    "new_df_lose['target'] = 0"
   ]
  },
  {
   "cell_type": "code",
   "execution_count": null,
   "id": "1f4fb87d",
   "metadata": {},
   "outputs": [],
   "source": [
    "df_1 = pd.concat([new_df_win, new_df_lose])\n",
    "df_1.head()"
   ]
  },
  {
   "cell_type": "code",
   "execution_count": null,
   "id": "d62722d6",
   "metadata": {},
   "outputs": [],
   "source": [
    "df_1.tail()"
   ]
  },
  {
   "cell_type": "code",
   "execution_count": null,
   "id": "fb1ec32c",
   "metadata": {},
   "outputs": [],
   "source": [
    "df_1 = df_1.sample(frac = 1).reset_index(drop = True)\n",
    "df_1"
   ]
  },
  {
   "cell_type": "code",
   "execution_count": null,
   "id": "1f98a578",
   "metadata": {},
   "outputs": [],
   "source": [
    "df_1.columns"
   ]
  },
  {
   "cell_type": "code",
   "execution_count": null,
   "id": "c208d360",
   "metadata": {},
   "outputs": [],
   "source": [
    "from tensorflow.keras.utils import to_categorical\n",
    "from tensorflow.keras.models import Sequential\n",
    "from tensorflow.keras.layers import Dense, Dropout, BatchNormalization\n",
    "from sklearn.preprocessing import MinMaxScaler\n",
    "from tensorflow.keras.optimizers import Adam"
   ]
  },
  {
   "cell_type": "code",
   "execution_count": null,
   "id": "aa5a1e29",
   "metadata": {},
   "outputs": [],
   "source": [
    "min_max_scaler = MinMaxScaler()\n",
    "X = df_1[['FGM', 'FGA', 'FGM3', 'FGA3', 'FTM', 'FTA', 'OR', 'DR', 'Ast', 'TO',\n",
    "       'Stl', 'Blk', 'PF']]\n",
    "y = df_1.target"
   ]
  },
  {
   "cell_type": "code",
   "execution_count": null,
   "id": "0b93d84b",
   "metadata": {},
   "outputs": [],
   "source": [
    "X = min_max_scaler.fit_transform(X)\n",
    "y = to_categorical(y)"
   ]
  },
  {
   "cell_type": "code",
   "execution_count": null,
   "id": "88648295",
   "metadata": {},
   "outputs": [],
   "source": [
    "model = Sequential()\n",
    "model.add(Dense(32, activation='relu', input_shape=(X.shape[1],)))\n",
    "model.add(BatchNormalization())\n",
    "model.add(Dense(32, activation='relu'))\n",
    "model.add(Dense(16, activation='relu'))\n",
    "#model.add(Dro\n",
    "model.add(Dense(8, activation='relu'))\n",
    "model.add(Dense(2, activation='softmax'))"
   ]
  },
  {
   "cell_type": "code",
   "execution_count": null,
   "id": "3b499d10",
   "metadata": {},
   "outputs": [],
   "source": [
    "adam = Adam(learning_rate=1e-7)\n",
    "model.compile(optimizer='adam', loss='binary_crossentropy', metrics=['acc'])\n",
    "model.summary()"
   ]
  },
  {
   "cell_type": "code",
   "execution_count": null,
   "id": "0336b109",
   "metadata": {
    "scrolled": false
   },
   "outputs": [],
   "source": [
    "history = model.fit(X, y, epochs=50, batch_size=16, validation_split=0.3)"
   ]
  },
  {
   "cell_type": "code",
   "execution_count": null,
   "id": "a216a8b7",
   "metadata": {},
   "outputs": [],
   "source": [
    "import matplotlib.pyplot as plt\n",
    "plt.plot(history.history['loss'])\n",
    "plt.plot(history.history['val_loss'])"
   ]
  },
  {
   "cell_type": "code",
   "execution_count": null,
   "id": "3bdbc0ed",
   "metadata": {},
   "outputs": [],
   "source": [
    "import pandas as pd\n",
    "output_file = pd.DataFrame({'Team A':[],\n",
    "                            'Team B': [],\n",
    "                            'Team A Winner':[]})\n",
    "output_file"
   ]
  },
  {
   "cell_type": "code",
   "execution_count": null,
   "id": "59ad0a3d",
   "metadata": {},
   "outputs": [],
   "source": [
    "output_file"
   ]
  },
  {
   "cell_type": "code",
   "execution_count": null,
   "id": "d353d073",
   "metadata": {},
   "outputs": [],
   "source": [
    "for i in men_teams_2024:\n",
    "    for j in men_teams_2024:\n",
    "        "
   ]
  },
  {
   "cell_type": "code",
   "execution_count": 78,
   "id": "92d4efbc",
   "metadata": {},
   "outputs": [
    {
     "data": {
      "text/html": [
       "<div>\n",
       "<style scoped>\n",
       "    .dataframe tbody tr th:only-of-type {\n",
       "        vertical-align: middle;\n",
       "    }\n",
       "\n",
       "    .dataframe tbody tr th {\n",
       "        vertical-align: top;\n",
       "    }\n",
       "\n",
       "    .dataframe thead th {\n",
       "        text-align: right;\n",
       "    }\n",
       "</style>\n",
       "<table border=\"1\" class=\"dataframe\">\n",
       "  <thead>\n",
       "    <tr style=\"text-align: right;\">\n",
       "      <th></th>\n",
       "      <th>TeamID</th>\n",
       "      <th>TeamName</th>\n",
       "      <th>FirstD1Season</th>\n",
       "      <th>LastD1Season</th>\n",
       "    </tr>\n",
       "  </thead>\n",
       "  <tbody>\n",
       "  </tbody>\n",
       "</table>\n",
       "</div>"
      ],
      "text/plain": [
       "Empty DataFrame\n",
       "Columns: [TeamID, TeamName, FirstD1Season, LastD1Season]\n",
       "Index: []"
      ]
     },
     "execution_count": 78,
     "metadata": {},
     "output_type": "execute_result"
    }
   ],
   "source": [
    "men_teams[men_teams.TeamName == \"Peter's\"]"
   ]
  },
  {
   "cell_type": "code",
   "execution_count": null,
   "id": "3bcbe5cf",
   "metadata": {},
   "outputs": [],
   "source": [
    "from summarytools import dfSummary\n",
    "output_file['Team A'].value_counts()"
   ]
  },
  {
   "cell_type": "code",
   "execution_count": null,
   "id": "d81a2029",
   "metadata": {},
   "outputs": [],
   "source": []
  },
  {
   "cell_type": "code",
   "execution_count": null,
   "id": "126218e7",
   "metadata": {},
   "outputs": [],
   "source": [
    "import pandas as pd\n",
    "from itertools import permutations\n",
    "\n",
    "# List of values\n",
    "\n",
    "# Generate pairs of values with all possible combinations\n",
    "pairs = [(x, y) for x, y in permutations(men_teams_2024, 2)]\n",
    "\n",
    "# Create DataFrame\n",
    "output_file = pd.DataFrame(pairs, columns=['Team_A', 'Team_B'])"
   ]
  },
  {
   "cell_type": "code",
   "execution_count": null,
   "id": "17e734aa",
   "metadata": {},
   "outputs": [],
   "source": [
    "output_file['Team A Win'] = 0\n",
    "\n",
    "# Display the DataFrame\n",
    "output_file"
   ]
  },
  {
   "cell_type": "code",
   "execution_count": null,
   "id": "79c33f9f",
   "metadata": {},
   "outputs": [],
   "source": [
    "teamid = []\n",
    "\n",
    "for i in len(men_teams):\n",
    "    if (men_teams_2024[i] == men_teams.TeamName):\n",
    "        "
   ]
  },
  {
   "cell_type": "code",
   "execution_count": null,
   "id": "1442dde3",
   "metadata": {},
   "outputs": [],
   "source": [
    "men_teams"
   ]
  },
  {
   "cell_type": "code",
   "execution_count": 1,
   "id": "2ea8a239",
   "metadata": {},
   "outputs": [
    {
     "data": {
      "text/html": [
       "<div>\n",
       "<style scoped>\n",
       "    .dataframe tbody tr th:only-of-type {\n",
       "        vertical-align: middle;\n",
       "    }\n",
       "\n",
       "    .dataframe tbody tr th {\n",
       "        vertical-align: top;\n",
       "    }\n",
       "\n",
       "    .dataframe thead th {\n",
       "        text-align: right;\n",
       "    }\n",
       "</style>\n",
       "<table border=\"1\" class=\"dataframe\">\n",
       "  <thead>\n",
       "    <tr style=\"text-align: right;\">\n",
       "      <th></th>\n",
       "      <th>TeamA_ID</th>\n",
       "      <th>TeamA_Name</th>\n",
       "      <th>TeamB_ID</th>\n",
       "      <th>TeamB_Name</th>\n",
       "      <th>Is_TeamA_winner</th>\n",
       "    </tr>\n",
       "  </thead>\n",
       "  <tbody>\n",
       "    <tr>\n",
       "      <th>0</th>\n",
       "      <td>1163</td>\n",
       "      <td>Connecticut</td>\n",
       "      <td>1235</td>\n",
       "      <td>Iowa St</td>\n",
       "      <td>1</td>\n",
       "    </tr>\n",
       "    <tr>\n",
       "      <th>1</th>\n",
       "      <td>1235</td>\n",
       "      <td>Iowa St</td>\n",
       "      <td>1163</td>\n",
       "      <td>Connecticut</td>\n",
       "      <td>0</td>\n",
       "    </tr>\n",
       "    <tr>\n",
       "      <th>2</th>\n",
       "      <td>1163</td>\n",
       "      <td>Connecticut</td>\n",
       "      <td>1228</td>\n",
       "      <td>Illinois</td>\n",
       "      <td>1</td>\n",
       "    </tr>\n",
       "    <tr>\n",
       "      <th>3</th>\n",
       "      <td>1228</td>\n",
       "      <td>Illinois</td>\n",
       "      <td>1163</td>\n",
       "      <td>Connecticut</td>\n",
       "      <td>0</td>\n",
       "    </tr>\n",
       "    <tr>\n",
       "      <th>4</th>\n",
       "      <td>1163</td>\n",
       "      <td>Connecticut</td>\n",
       "      <td>1120</td>\n",
       "      <td>Auburn</td>\n",
       "      <td>1</td>\n",
       "    </tr>\n",
       "  </tbody>\n",
       "</table>\n",
       "</div>"
      ],
      "text/plain": [
       "   TeamA_ID   TeamA_Name  TeamB_ID   TeamB_Name  Is_TeamA_winner\n",
       "0      1163  Connecticut      1235      Iowa St                1\n",
       "1      1235      Iowa St      1163  Connecticut                0\n",
       "2      1163  Connecticut      1228     Illinois                1\n",
       "3      1228     Illinois      1163  Connecticut                0\n",
       "4      1163  Connecticut      1120       Auburn                1"
      ]
     },
     "execution_count": 1,
     "metadata": {},
     "output_type": "execute_result"
    }
   ],
   "source": [
    "import pandas as pd\n",
    "fin_sub = pd.read_csv(\"Final_brackets_submission.csv\")\n",
    "fin_sub.head()"
   ]
  },
  {
   "cell_type": "code",
   "execution_count": 38,
   "id": "0c1dfbbf",
   "metadata": {},
   "outputs": [],
   "source": [
    "fin_sub1 = pd.read_csv(\"Final_brackets_submission(1).csv\")"
   ]
  },
  {
   "cell_type": "code",
   "execution_count": 101,
   "id": "b8640694",
   "metadata": {},
   "outputs": [
    {
     "data": {
      "text/plain": [
       "[Empty DataFrame\n",
       " Columns: [Team_A, Team_B, Team A Win]\n",
       " Index: []]"
      ]
     },
     "execution_count": 101,
     "metadata": {},
     "output_type": "execute_result"
    }
   ],
   "source": [
    "[fin_sub1[(fin_sub1.Team_A == \"Connecticut\") & (fin_sub1.Team_B == \"Grad Canyon\")]]"
   ]
  },
  {
   "cell_type": "code",
   "execution_count": 100,
   "id": "7a0ac367",
   "metadata": {},
   "outputs": [
    {
     "data": {
      "text/plain": [
       "[Empty DataFrame\n",
       " Columns: [Team_A, Team_B, Team A Win]\n",
       " Index: []]"
      ]
     },
     "execution_count": 100,
     "metadata": {},
     "output_type": "execute_result"
    }
   ],
   "source": [
    "[fin_sub1[(fin_sub1.Team_B == \"Connecticut\") & (fin_sub1.Team_A == \"Grand Canyon\")]]"
   ]
  },
  {
   "cell_type": "code",
   "execution_count": null,
   "id": "450a8b03",
   "metadata": {},
   "outputs": [],
   "source": []
  },
  {
   "cell_type": "code",
   "execution_count": 112,
   "id": "3121779f",
   "metadata": {},
   "outputs": [
    {
     "data": {
      "text/plain": [
       "[      TeamA_ID TeamA_Name  TeamB_ID   TeamB_Name  Is_TeamA_winner\n",
       " 3551      1196    Florida      1161  Colorado St                0]"
      ]
     },
     "execution_count": 112,
     "metadata": {},
     "output_type": "execute_result"
    }
   ],
   "source": [
    "[fin_sub[(fin_sub.TeamB_Name == \"Colorado St\") & (fin_sub.TeamA_Name == \"Florida\")]]"
   ]
  },
  {
   "cell_type": "code",
   "execution_count": 109,
   "id": "54750ceb",
   "metadata": {},
   "outputs": [
    {
     "data": {
      "text/plain": [
       "[    TeamA_ID   TeamA_Name  TeamB_ID TeamB_Name  Is_TeamA_winner\n",
       " 28      1163  Connecticut      1391    Stetson                1]"
      ]
     },
     "execution_count": 109,
     "metadata": {},
     "output_type": "execute_result"
    }
   ],
   "source": [
    "[fin_sub[(fin_sub.TeamA_Name == \"Fl Atlantic\") & (fin_sub.TeamB_Name == \"Northwestern\")]]"
   ]
  },
  {
   "cell_type": "code",
   "execution_count": null,
   "id": "f0dabfdf",
   "metadata": {},
   "outputs": [],
   "source": []
  },
  {
   "cell_type": "code",
   "execution_count": 36,
   "id": "15de7407",
   "metadata": {},
   "outputs": [
    {
     "data": {
      "text/html": [
       "<div>\n",
       "<style scoped>\n",
       "    .dataframe tbody tr th:only-of-type {\n",
       "        vertical-align: middle;\n",
       "    }\n",
       "\n",
       "    .dataframe tbody tr th {\n",
       "        vertical-align: top;\n",
       "    }\n",
       "\n",
       "    .dataframe thead th {\n",
       "        text-align: right;\n",
       "    }\n",
       "</style>\n",
       "<table border=\"1\" class=\"dataframe\">\n",
       "  <thead>\n",
       "    <tr style=\"text-align: right;\">\n",
       "      <th></th>\n",
       "      <th>TeamA_ID</th>\n",
       "      <th>TeamA_Name</th>\n",
       "      <th>TeamB_ID</th>\n",
       "      <th>TeamB_Name</th>\n",
       "      <th>Is_TeamA_winner</th>\n",
       "    </tr>\n",
       "  </thead>\n",
       "  <tbody>\n",
       "  </tbody>\n",
       "</table>\n",
       "</div>"
      ],
      "text/plain": [
       "Empty DataFrame\n",
       "Columns: [TeamA_ID, TeamA_Name, TeamB_ID, TeamB_Name, Is_TeamA_winner]\n",
       "Index: []"
      ]
     },
     "execution_count": 36,
     "metadata": {},
     "output_type": "execute_result"
    }
   ],
   "source": [
    "fin_sub[(fin_sub.TeamA_Name == \"Wagner\")]"
   ]
  },
  {
   "cell_type": "code",
   "execution_count": 33,
   "id": "15e1be64",
   "metadata": {},
   "outputs": [
    {
     "data": {
      "text/plain": [
       "array(['Connecticut', 'Iowa St', 'Illinois', 'Auburn', 'San Diego St',\n",
       "       'BYU', 'Washington St', 'FL Atlantic', 'Northwestern', 'Drake',\n",
       "       'Duquesne', 'UAB', 'Yale', 'Morehead St', 'S Dakota St', 'Stetson',\n",
       "       'North Carolina', 'Arizona', 'Baylor', 'Alabama', \"St Mary's CA\",\n",
       "       'Clemson', 'Dayton', 'Mississippi St', 'Michigan St', 'Nevada',\n",
       "       'New Mexico', 'Grand Canyon', 'Col Charleston', 'Colgate',\n",
       "       'Long Beach St', 'Howard', 'Purdue', 'Tennessee', 'Creighton',\n",
       "       'Kansas', 'Gonzaga', 'South Carolina', 'Texas', 'Utah St', 'TCU',\n",
       "       'Colorado St', 'Oregon', 'McNeese St', 'Samford', 'Akron',\n",
       "       \"St Peter's\", 'Grambling', 'Houston', 'Marquette', 'Kentucky',\n",
       "       'Duke', 'Wisconsin', 'Texas Tech', 'Florida', 'Nebraska',\n",
       "       'Texas A&M', 'Boise St', 'NC State', 'James Madison', 'Vermont',\n",
       "       'Oakland', 'WKU', 'Longwood'], dtype=object)"
      ]
     },
     "execution_count": 33,
     "metadata": {},
     "output_type": "execute_result"
    }
   ],
   "source": [
    "fin_sub.TeamA_Name.unique()"
   ]
  },
  {
   "cell_type": "code",
   "execution_count": 80,
   "id": "d776b84d",
   "metadata": {},
   "outputs": [
    {
     "data": {
      "text/plain": [
       "array(['Abilene Chr', 'Air Force', 'Akron', 'Alabama', 'Alabama A&M',\n",
       "       'Alabama St', 'SUNY Albany', 'Alcorn St', 'Alliant Intl',\n",
       "       'American Univ', 'Appalachian St', 'Arizona', 'Arizona St',\n",
       "       'Ark Little Rock', 'Ark Pine Bluff', 'Arkansas', 'Arkansas St',\n",
       "       'Armstrong St', 'Army', 'Auburn', 'Augusta', 'Austin Peay',\n",
       "       'Ball St', 'Baylor', 'Belmont', 'Bethune-Cookman', 'Binghamton',\n",
       "       'Birmingham So', 'Boise St', 'Boston College', 'Boston Univ',\n",
       "       'Bowling Green', 'Bradley', 'Brooklyn', 'Brown', 'Bryant',\n",
       "       'Bucknell', 'Buffalo', 'Butler', 'BYU', 'C Michigan', 'Cal Poly',\n",
       "       'California', 'Campbell', 'Canisius', 'Cent Arkansas', 'Centenary',\n",
       "       'Central Conn', 'Charleston So', 'Charlotte', 'Chattanooga',\n",
       "       'Chicago St', 'Cincinnati', 'Citadel', 'Clemson', 'Cleveland St',\n",
       "       'Coastal Car', 'Col Charleston', 'Colgate', 'Colorado',\n",
       "       'Colorado St', 'Columbia', 'Connecticut', 'Coppin St', 'Cornell',\n",
       "       'Creighton', 'CS Bakersfield', 'CS Fullerton', 'CS Northridge',\n",
       "       'CS Sacramento', 'Dartmouth', 'Davidson', 'Dayton', 'Delaware',\n",
       "       'Delaware St', 'Denver', 'DePaul', 'Detroit', 'Drake', 'Drexel',\n",
       "       'Duke', 'Duquesne', 'E Illinois', 'E Kentucky', 'E Michigan',\n",
       "       'E Washington', 'East Carolina', 'SIUE', 'Elon', 'ETSU',\n",
       "       'Evansville', 'F Dickinson', 'Fairfield', 'FL Atlantic',\n",
       "       'FL Gulf Coast', 'Florida', 'Florida A&M', 'Florida Intl',\n",
       "       'Florida St', 'Fordham', 'Fresno St', 'Furman', 'G Washington',\n",
       "       'Ga Southern', 'Gardner Webb', 'George Mason', 'Georgetown',\n",
       "       'Georgia', 'Georgia St', 'Georgia Tech', 'Gonzaga', 'Grambling',\n",
       "       'Grand Canyon', 'Hampton', 'Hardin-Simmons', 'Hartford', 'Harvard',\n",
       "       'Hawaii', 'High Point', 'Hofstra', 'Holy Cross', 'Houston',\n",
       "       'Houston Chr', 'Howard', 'Idaho', 'Idaho St', 'IL Chicago',\n",
       "       'Illinois', 'Illinois St', 'Incarnate Word', 'Indiana',\n",
       "       'Indiana St', 'Iona', 'Iowa', 'Iowa St', 'PFW', 'IUPUI',\n",
       "       'Jackson St', 'Jacksonville', 'Jacksonville St', 'James Madison',\n",
       "       'Kansas', 'Kansas St', 'Kennesaw', 'Kent', 'Kentucky', 'La Salle',\n",
       "       'Lafayette', 'Lamar', 'Lehigh', 'Liberty', 'Lipscomb',\n",
       "       'Long Beach St', 'LIU Brooklyn', 'Longwood', 'Louisiana Tech',\n",
       "       'Louisville', 'Loy Marymount', 'Loyola MD', 'Loyola-Chicago',\n",
       "       'LSU', 'MA Lowell', 'Maine', 'Manhattan', 'Marist', 'Marquette',\n",
       "       'Marshall', 'Maryland', 'Massachusetts', 'McNeese St',\n",
       "       'MD E Shore', 'Memphis', 'Mercer', 'Miami FL', 'Miami OH',\n",
       "       'Michigan', 'Michigan St', 'Minnesota', 'Mississippi',\n",
       "       'Mississippi St', 'Missouri', 'Missouri KC', 'Missouri St',\n",
       "       'Monmouth NJ', 'Montana', 'Montana St', 'Morehead St', 'Morgan St',\n",
       "       'Morris Brown', 'MS Valley St', \"Mt St Mary's\", 'MTSU',\n",
       "       'Murray St', 'N Colorado', 'N Dakota St', 'N Illinois',\n",
       "       'N Kentucky', 'Navy', 'NC A&T', 'NC Central', 'NC State',\n",
       "       'NE Illinois', 'NE Omaha', 'Nebraska', 'Nevada', 'New Hampshire',\n",
       "       'New Mexico', 'New Mexico St', 'New Orleans', 'Niagara',\n",
       "       'Nicholls St', 'NJIT', 'Norfolk St', 'North Carolina',\n",
       "       'North Dakota', 'North Florida', 'North Texas', 'Northeastern',\n",
       "       'Northern Arizona', 'Northern Iowa', 'Northwestern',\n",
       "       'Northwestern LA', 'Notre Dame', 'Oakland', 'Ohio', 'Ohio St',\n",
       "       'Okla City', 'Oklahoma', 'Oklahoma St', 'Old Dominion',\n",
       "       'Oral Roberts', 'Oregon', 'Oregon St', 'Pacific', 'Penn',\n",
       "       'Penn St', 'Pepperdine', 'Pittsburgh', 'Portland', 'Portland St',\n",
       "       'Prairie View', 'Presbyterian', 'Princeton', 'Providence',\n",
       "       'Purdue', 'Quinnipiac', 'Radford', 'Rhode Island', 'Rice',\n",
       "       'Richmond', 'Rider', 'Robert Morris', 'Rutgers', 'S Carolina St',\n",
       "       'S Dakota St', 'S Illinois', 'Sacred Heart', 'Sam Houston St',\n",
       "       'Samford', 'San Diego', 'San Diego St', 'San Francisco',\n",
       "       'San Jose St', 'UC Santa Barbara', 'Santa Clara', 'Savannah St',\n",
       "       'SC Upstate', 'SE Louisiana', 'SE Missouri St', 'Seattle',\n",
       "       'Seton Hall', 'SF Austin', 'Siena', 'SMU', 'South Alabama',\n",
       "       'South Carolina', 'South Dakota', 'South Florida', 'Southern Miss',\n",
       "       'Southern Univ', 'Southern Utah', 'St Bonaventure',\n",
       "       'St Francis NY', 'St Francis PA', \"St John's\", \"St Joseph's PA\",\n",
       "       'St Louis', \"St Mary's CA\", \"St Peter's\", 'Stanford', 'Stetson',\n",
       "       'Stony Brook', 'Syracuse', 'TAM C. Christi', 'TCU', 'Temple',\n",
       "       'Tennessee', 'Tennessee St', 'Tennessee Tech', 'Texas',\n",
       "       'Texas A&M', 'Texas St', 'Texas Tech', 'TN Martin', 'Toledo',\n",
       "       'Towson', 'Troy', 'Tulane', 'Tulsa', 'UTRGV', 'TX Southern', 'UAB',\n",
       "       'UC Davis', 'UC Irvine', 'UC Riverside', 'UCF', 'UCLA',\n",
       "       'Louisiana', 'ULM', 'UMBC', 'UNC Asheville', 'UNC Greensboro',\n",
       "       'UNC Wilmington', 'UNLV', 'USC', 'UT Arlington', 'UT San Antonio',\n",
       "       'Utah', 'Utah St', 'Utah Valley', 'UTEP', 'Utica', 'VCU',\n",
       "       'Valparaiso', 'Vanderbilt', 'Vermont', 'Villanova', 'Virginia',\n",
       "       'Virginia Tech', 'VMI', 'W Carolina', 'W Illinois', 'WKU',\n",
       "       'W Michigan', 'W Salem St', 'W Texas A&M', 'Wagner', 'Wake Forest',\n",
       "       'Washington', 'Washington St', 'Weber St', 'West Virginia',\n",
       "       'WI Green Bay', 'WI Milwaukee', 'Wichita St', 'William & Mary',\n",
       "       'Winthrop', 'Wisconsin', 'Wofford', 'Wright St', 'Wyoming',\n",
       "       'Xavier', 'Yale', 'Youngstown St', 'Cal Baptist', 'North Alabama',\n",
       "       'Merrimack', 'Bellarmine', 'Utah Tech', 'Tarleton St',\n",
       "       'UC San Diego', 'St Thomas MN', 'Lindenwood', 'Queens NC',\n",
       "       'Southern Indiana', 'Stonehill', 'TX A&M Commerce', 'Le Moyne'],\n",
       "      dtype=object)"
      ]
     },
     "execution_count": 80,
     "metadata": {},
     "output_type": "execute_result"
    }
   ],
   "source": [
    "men_teams.TeamName.unique()"
   ]
  },
  {
   "cell_type": "code",
   "execution_count": null,
   "id": "a4a4f274",
   "metadata": {},
   "outputs": [],
   "source": [
    "men_regseason_results_det.columns"
   ]
  },
  {
   "cell_type": "code",
   "execution_count": 21,
   "id": "04928f19",
   "metadata": {},
   "outputs": [
    {
     "data": {
      "text/html": [
       "<div>\n",
       "<style scoped>\n",
       "    .dataframe tbody tr th:only-of-type {\n",
       "        vertical-align: middle;\n",
       "    }\n",
       "\n",
       "    .dataframe tbody tr th {\n",
       "        vertical-align: top;\n",
       "    }\n",
       "\n",
       "    .dataframe thead th {\n",
       "        text-align: right;\n",
       "    }\n",
       "</style>\n",
       "<table border=\"1\" class=\"dataframe\">\n",
       "  <thead>\n",
       "    <tr style=\"text-align: right;\">\n",
       "      <th></th>\n",
       "      <th>Season</th>\n",
       "      <th>DayNum</th>\n",
       "      <th>WTeamID</th>\n",
       "      <th>WScore</th>\n",
       "      <th>LTeamID</th>\n",
       "      <th>LScore</th>\n",
       "      <th>WLoc</th>\n",
       "      <th>NumOT</th>\n",
       "      <th>WFGM</th>\n",
       "      <th>WFGA</th>\n",
       "      <th>...</th>\n",
       "      <th>LFGA3</th>\n",
       "      <th>LFTM</th>\n",
       "      <th>LFTA</th>\n",
       "      <th>LOR</th>\n",
       "      <th>LDR</th>\n",
       "      <th>LAst</th>\n",
       "      <th>LTO</th>\n",
       "      <th>LStl</th>\n",
       "      <th>LBlk</th>\n",
       "      <th>LPF</th>\n",
       "    </tr>\n",
       "  </thead>\n",
       "  <tbody>\n",
       "  </tbody>\n",
       "</table>\n",
       "<p>0 rows × 34 columns</p>\n",
       "</div>"
      ],
      "text/plain": [
       "Empty DataFrame\n",
       "Columns: [Season, DayNum, WTeamID, WScore, LTeamID, LScore, WLoc, NumOT, WFGM, WFGA, WFGM3, WFGA3, WFTM, WFTA, WOR, WDR, WAst, WTO, WStl, WBlk, WPF, LFGM, LFGA, LFGM3, LFGA3, LFTM, LFTA, LOR, LDR, LAst, LTO, LStl, LBlk, LPF]\n",
       "Index: []\n",
       "\n",
       "[0 rows x 34 columns]"
      ]
     },
     "execution_count": 21,
     "metadata": {},
     "output_type": "execute_result"
    }
   ],
   "source": [
    "men_regseason_results_det[(men_regseason_results_det.WTeamID == 1266) & (men_regseason_results_det.LTeamID == 1160) &\n",
    "                          (men_regseason_results_det.Season > 2016)]"
   ]
  },
  {
   "cell_type": "code",
   "execution_count": 22,
   "id": "579faa97",
   "metadata": {},
   "outputs": [
    {
     "data": {
      "text/html": [
       "<div>\n",
       "<style scoped>\n",
       "    .dataframe tbody tr th:only-of-type {\n",
       "        vertical-align: middle;\n",
       "    }\n",
       "\n",
       "    .dataframe tbody tr th {\n",
       "        vertical-align: top;\n",
       "    }\n",
       "\n",
       "    .dataframe thead th {\n",
       "        text-align: right;\n",
       "    }\n",
       "</style>\n",
       "<table border=\"1\" class=\"dataframe\">\n",
       "  <thead>\n",
       "    <tr style=\"text-align: right;\">\n",
       "      <th></th>\n",
       "      <th>Season</th>\n",
       "      <th>DayNum</th>\n",
       "      <th>WTeamID</th>\n",
       "      <th>WScore</th>\n",
       "      <th>LTeamID</th>\n",
       "      <th>LScore</th>\n",
       "      <th>WLoc</th>\n",
       "      <th>NumOT</th>\n",
       "      <th>WFGM</th>\n",
       "      <th>WFGA</th>\n",
       "      <th>...</th>\n",
       "      <th>LFGA3</th>\n",
       "      <th>LFTM</th>\n",
       "      <th>LFTA</th>\n",
       "      <th>LOR</th>\n",
       "      <th>LDR</th>\n",
       "      <th>LAst</th>\n",
       "      <th>LTO</th>\n",
       "      <th>LStl</th>\n",
       "      <th>LBlk</th>\n",
       "      <th>LPF</th>\n",
       "    </tr>\n",
       "  </thead>\n",
       "  <tbody>\n",
       "  </tbody>\n",
       "</table>\n",
       "<p>0 rows × 34 columns</p>\n",
       "</div>"
      ],
      "text/plain": [
       "Empty DataFrame\n",
       "Columns: [Season, DayNum, WTeamID, WScore, LTeamID, LScore, WLoc, NumOT, WFGM, WFGA, WFGM3, WFGA3, WFTM, WFTA, WOR, WDR, WAst, WTO, WStl, WBlk, WPF, LFGM, LFGA, LFGM3, LFGA3, LFTM, LFTA, LOR, LDR, LAst, LTO, LStl, LBlk, LPF]\n",
       "Index: []\n",
       "\n",
       "[0 rows x 34 columns]"
      ]
     },
     "execution_count": 22,
     "metadata": {},
     "output_type": "execute_result"
    }
   ],
   "source": [
    "men_regseason_results_det[(men_regseason_results_det.WTeamID == 1160) & (men_regseason_results_det.LTeamID == 1266) &\n",
    "                          (men_regseason_results_det.Season > 2016)]"
   ]
  },
  {
   "cell_type": "code",
   "execution_count": 51,
   "id": "bcbf3424",
   "metadata": {},
   "outputs": [
    {
     "data": {
      "text/html": [
       "<div>\n",
       "<style scoped>\n",
       "    .dataframe tbody tr th:only-of-type {\n",
       "        vertical-align: middle;\n",
       "    }\n",
       "\n",
       "    .dataframe tbody tr th {\n",
       "        vertical-align: top;\n",
       "    }\n",
       "\n",
       "    .dataframe thead th {\n",
       "        text-align: right;\n",
       "    }\n",
       "</style>\n",
       "<table border=\"1\" class=\"dataframe\">\n",
       "  <thead>\n",
       "    <tr style=\"text-align: right;\">\n",
       "      <th></th>\n",
       "      <th>Season</th>\n",
       "      <th>DayNum</th>\n",
       "      <th>WTeamID</th>\n",
       "      <th>WScore</th>\n",
       "      <th>LTeamID</th>\n",
       "      <th>LScore</th>\n",
       "      <th>WLoc</th>\n",
       "      <th>NumOT</th>\n",
       "      <th>WFGM</th>\n",
       "      <th>WFGA</th>\n",
       "      <th>...</th>\n",
       "      <th>LFGA3</th>\n",
       "      <th>LFTM</th>\n",
       "      <th>LFTA</th>\n",
       "      <th>LOR</th>\n",
       "      <th>LDR</th>\n",
       "      <th>LAst</th>\n",
       "      <th>LTO</th>\n",
       "      <th>LStl</th>\n",
       "      <th>LBlk</th>\n",
       "      <th>LPF</th>\n",
       "    </tr>\n",
       "  </thead>\n",
       "  <tbody>\n",
       "    <tr>\n",
       "      <th>71347</th>\n",
       "      <td>2017</td>\n",
       "      <td>11</td>\n",
       "      <td>1447</td>\n",
       "      <td>67</td>\n",
       "      <td>1163</td>\n",
       "      <td>58</td>\n",
       "      <td>A</td>\n",
       "      <td>0</td>\n",
       "      <td>20</td>\n",
       "      <td>53</td>\n",
       "      <td>...</td>\n",
       "      <td>19</td>\n",
       "      <td>12</td>\n",
       "      <td>16</td>\n",
       "      <td>12</td>\n",
       "      <td>21</td>\n",
       "      <td>9</td>\n",
       "      <td>9</td>\n",
       "      <td>4</td>\n",
       "      <td>2</td>\n",
       "      <td>20</td>\n",
       "    </tr>\n",
       "    <tr>\n",
       "      <th>71885</th>\n",
       "      <td>2017</td>\n",
       "      <td>22</td>\n",
       "      <td>1447</td>\n",
       "      <td>73</td>\n",
       "      <td>1110</td>\n",
       "      <td>65</td>\n",
       "      <td>A</td>\n",
       "      <td>0</td>\n",
       "      <td>27</td>\n",
       "      <td>54</td>\n",
       "      <td>...</td>\n",
       "      <td>29</td>\n",
       "      <td>11</td>\n",
       "      <td>20</td>\n",
       "      <td>11</td>\n",
       "      <td>24</td>\n",
       "      <td>13</td>\n",
       "      <td>13</td>\n",
       "      <td>3</td>\n",
       "      <td>2</td>\n",
       "      <td>22</td>\n",
       "    </tr>\n",
       "    <tr>\n",
       "      <th>72719</th>\n",
       "      <td>2017</td>\n",
       "      <td>40</td>\n",
       "      <td>1447</td>\n",
       "      <td>68</td>\n",
       "      <td>1288</td>\n",
       "      <td>66</td>\n",
       "      <td>A</td>\n",
       "      <td>0</td>\n",
       "      <td>27</td>\n",
       "      <td>58</td>\n",
       "      <td>...</td>\n",
       "      <td>22</td>\n",
       "      <td>17</td>\n",
       "      <td>24</td>\n",
       "      <td>14</td>\n",
       "      <td>24</td>\n",
       "      <td>10</td>\n",
       "      <td>8</td>\n",
       "      <td>1</td>\n",
       "      <td>4</td>\n",
       "      <td>17</td>\n",
       "    </tr>\n",
       "    <tr>\n",
       "      <th>73300</th>\n",
       "      <td>2017</td>\n",
       "      <td>59</td>\n",
       "      <td>1447</td>\n",
       "      <td>71</td>\n",
       "      <td>1148</td>\n",
       "      <td>46</td>\n",
       "      <td>H</td>\n",
       "      <td>0</td>\n",
       "      <td>23</td>\n",
       "      <td>51</td>\n",
       "      <td>...</td>\n",
       "      <td>8</td>\n",
       "      <td>9</td>\n",
       "      <td>14</td>\n",
       "      <td>6</td>\n",
       "      <td>15</td>\n",
       "      <td>7</td>\n",
       "      <td>9</td>\n",
       "      <td>7</td>\n",
       "      <td>0</td>\n",
       "      <td>18</td>\n",
       "    </tr>\n",
       "    <tr>\n",
       "      <th>73762</th>\n",
       "      <td>2017</td>\n",
       "      <td>68</td>\n",
       "      <td>1447</td>\n",
       "      <td>75</td>\n",
       "      <td>1357</td>\n",
       "      <td>64</td>\n",
       "      <td>H</td>\n",
       "      <td>0</td>\n",
       "      <td>27</td>\n",
       "      <td>59</td>\n",
       "      <td>...</td>\n",
       "      <td>17</td>\n",
       "      <td>6</td>\n",
       "      <td>11</td>\n",
       "      <td>9</td>\n",
       "      <td>28</td>\n",
       "      <td>16</td>\n",
       "      <td>15</td>\n",
       "      <td>2</td>\n",
       "      <td>1</td>\n",
       "      <td>18</td>\n",
       "    </tr>\n",
       "    <tr>\n",
       "      <th>...</th>\n",
       "      <td>...</td>\n",
       "      <td>...</td>\n",
       "      <td>...</td>\n",
       "      <td>...</td>\n",
       "      <td>...</td>\n",
       "      <td>...</td>\n",
       "      <td>...</td>\n",
       "      <td>...</td>\n",
       "      <td>...</td>\n",
       "      <td>...</td>\n",
       "      <td>...</td>\n",
       "      <td>...</td>\n",
       "      <td>...</td>\n",
       "      <td>...</td>\n",
       "      <td>...</td>\n",
       "      <td>...</td>\n",
       "      <td>...</td>\n",
       "      <td>...</td>\n",
       "      <td>...</td>\n",
       "      <td>...</td>\n",
       "      <td>...</td>\n",
       "    </tr>\n",
       "    <tr>\n",
       "      <th>110572</th>\n",
       "      <td>2024</td>\n",
       "      <td>74</td>\n",
       "      <td>1447</td>\n",
       "      <td>71</td>\n",
       "      <td>1467</td>\n",
       "      <td>65</td>\n",
       "      <td>A</td>\n",
       "      <td>0</td>\n",
       "      <td>25</td>\n",
       "      <td>50</td>\n",
       "      <td>...</td>\n",
       "      <td>27</td>\n",
       "      <td>12</td>\n",
       "      <td>15</td>\n",
       "      <td>2</td>\n",
       "      <td>20</td>\n",
       "      <td>14</td>\n",
       "      <td>4</td>\n",
       "      <td>6</td>\n",
       "      <td>4</td>\n",
       "      <td>18</td>\n",
       "    </tr>\n",
       "    <tr>\n",
       "      <th>111212</th>\n",
       "      <td>2024</td>\n",
       "      <td>87</td>\n",
       "      <td>1447</td>\n",
       "      <td>80</td>\n",
       "      <td>1478</td>\n",
       "      <td>57</td>\n",
       "      <td>H</td>\n",
       "      <td>0</td>\n",
       "      <td>30</td>\n",
       "      <td>59</td>\n",
       "      <td>...</td>\n",
       "      <td>25</td>\n",
       "      <td>6</td>\n",
       "      <td>8</td>\n",
       "      <td>7</td>\n",
       "      <td>22</td>\n",
       "      <td>15</td>\n",
       "      <td>9</td>\n",
       "      <td>3</td>\n",
       "      <td>0</td>\n",
       "      <td>14</td>\n",
       "    </tr>\n",
       "    <tr>\n",
       "      <th>111556</th>\n",
       "      <td>2024</td>\n",
       "      <td>94</td>\n",
       "      <td>1447</td>\n",
       "      <td>66</td>\n",
       "      <td>1192</td>\n",
       "      <td>62</td>\n",
       "      <td>A</td>\n",
       "      <td>0</td>\n",
       "      <td>23</td>\n",
       "      <td>57</td>\n",
       "      <td>...</td>\n",
       "      <td>16</td>\n",
       "      <td>15</td>\n",
       "      <td>19</td>\n",
       "      <td>9</td>\n",
       "      <td>24</td>\n",
       "      <td>10</td>\n",
       "      <td>9</td>\n",
       "      <td>6</td>\n",
       "      <td>2</td>\n",
       "      <td>17</td>\n",
       "    </tr>\n",
       "    <tr>\n",
       "      <th>111874</th>\n",
       "      <td>2024</td>\n",
       "      <td>101</td>\n",
       "      <td>1447</td>\n",
       "      <td>65</td>\n",
       "      <td>1384</td>\n",
       "      <td>63</td>\n",
       "      <td>A</td>\n",
       "      <td>1</td>\n",
       "      <td>24</td>\n",
       "      <td>68</td>\n",
       "      <td>...</td>\n",
       "      <td>13</td>\n",
       "      <td>11</td>\n",
       "      <td>21</td>\n",
       "      <td>4</td>\n",
       "      <td>27</td>\n",
       "      <td>10</td>\n",
       "      <td>14</td>\n",
       "      <td>4</td>\n",
       "      <td>4</td>\n",
       "      <td>15</td>\n",
       "    </tr>\n",
       "    <tr>\n",
       "      <th>112395</th>\n",
       "      <td>2024</td>\n",
       "      <td>111</td>\n",
       "      <td>1447</td>\n",
       "      <td>72</td>\n",
       "      <td>1254</td>\n",
       "      <td>57</td>\n",
       "      <td>H</td>\n",
       "      <td>0</td>\n",
       "      <td>25</td>\n",
       "      <td>55</td>\n",
       "      <td>...</td>\n",
       "      <td>10</td>\n",
       "      <td>20</td>\n",
       "      <td>28</td>\n",
       "      <td>12</td>\n",
       "      <td>21</td>\n",
       "      <td>9</td>\n",
       "      <td>14</td>\n",
       "      <td>5</td>\n",
       "      <td>3</td>\n",
       "      <td>20</td>\n",
       "    </tr>\n",
       "  </tbody>\n",
       "</table>\n",
       "<p>111 rows × 34 columns</p>\n",
       "</div>"
      ],
      "text/plain": [
       "        Season  DayNum  WTeamID  WScore  LTeamID  LScore WLoc  NumOT  WFGM  \\\n",
       "71347     2017      11     1447      67     1163      58    A      0    20   \n",
       "71885     2017      22     1447      73     1110      65    A      0    27   \n",
       "72719     2017      40     1447      68     1288      66    A      0    27   \n",
       "73300     2017      59     1447      71     1148      46    H      0    23   \n",
       "73762     2017      68     1447      75     1357      64    H      0    27   \n",
       "...        ...     ...      ...     ...      ...     ...  ...    ...   ...   \n",
       "110572    2024      74     1447      71     1467      65    A      0    25   \n",
       "111212    2024      87     1447      80     1478      57    H      0    30   \n",
       "111556    2024      94     1447      66     1192      62    A      0    23   \n",
       "111874    2024     101     1447      65     1384      63    A      1    24   \n",
       "112395    2024     111     1447      72     1254      57    H      0    25   \n",
       "\n",
       "        WFGA  ...  LFGA3  LFTM  LFTA  LOR  LDR  LAst  LTO  LStl  LBlk  LPF  \n",
       "71347     53  ...     19    12    16   12   21     9    9     4     2   20  \n",
       "71885     54  ...     29    11    20   11   24    13   13     3     2   22  \n",
       "72719     58  ...     22    17    24   14   24    10    8     1     4   17  \n",
       "73300     51  ...      8     9    14    6   15     7    9     7     0   18  \n",
       "73762     59  ...     17     6    11    9   28    16   15     2     1   18  \n",
       "...      ...  ...    ...   ...   ...  ...  ...   ...  ...   ...   ...  ...  \n",
       "110572    50  ...     27    12    15    2   20    14    4     6     4   18  \n",
       "111212    59  ...     25     6     8    7   22    15    9     3     0   14  \n",
       "111556    57  ...     16    15    19    9   24    10    9     6     2   17  \n",
       "111874    68  ...     13    11    21    4   27    10   14     4     4   15  \n",
       "112395    55  ...     10    20    28   12   21     9   14     5     3   20  \n",
       "\n",
       "[111 rows x 34 columns]"
      ]
     },
     "execution_count": 51,
     "metadata": {},
     "output_type": "execute_result"
    }
   ],
   "source": [
    "men_regseason_results_det[(men_regseason_results_det.WTeamID == 1447) & (men_regseason_results_det.Season > 2016)]"
   ]
  },
  {
   "cell_type": "code",
   "execution_count": 52,
   "id": "958bea60",
   "metadata": {},
   "outputs": [
    {
     "data": {
      "text/html": [
       "<div>\n",
       "<style scoped>\n",
       "    .dataframe tbody tr th:only-of-type {\n",
       "        vertical-align: middle;\n",
       "    }\n",
       "\n",
       "    .dataframe tbody tr th {\n",
       "        vertical-align: top;\n",
       "    }\n",
       "\n",
       "    .dataframe thead th {\n",
       "        text-align: right;\n",
       "    }\n",
       "</style>\n",
       "<table border=\"1\" class=\"dataframe\">\n",
       "  <thead>\n",
       "    <tr style=\"text-align: right;\">\n",
       "      <th></th>\n",
       "      <th>Season</th>\n",
       "      <th>DayNum</th>\n",
       "      <th>WTeamID</th>\n",
       "      <th>WScore</th>\n",
       "      <th>LTeamID</th>\n",
       "      <th>LScore</th>\n",
       "      <th>WLoc</th>\n",
       "      <th>NumOT</th>\n",
       "      <th>WFGM</th>\n",
       "      <th>WFGA</th>\n",
       "      <th>...</th>\n",
       "      <th>LFGA3</th>\n",
       "      <th>LFTM</th>\n",
       "      <th>LFTA</th>\n",
       "      <th>LOR</th>\n",
       "      <th>LDR</th>\n",
       "      <th>LAst</th>\n",
       "      <th>LTO</th>\n",
       "      <th>LStl</th>\n",
       "      <th>LBlk</th>\n",
       "      <th>LPF</th>\n",
       "    </tr>\n",
       "  </thead>\n",
       "  <tbody>\n",
       "    <tr>\n",
       "      <th>71673</th>\n",
       "      <td>2017</td>\n",
       "      <td>19</td>\n",
       "      <td>1213</td>\n",
       "      <td>82</td>\n",
       "      <td>1107</td>\n",
       "      <td>77</td>\n",
       "      <td>N</td>\n",
       "      <td>0</td>\n",
       "      <td>29</td>\n",
       "      <td>59</td>\n",
       "      <td>...</td>\n",
       "      <td>21</td>\n",
       "      <td>15</td>\n",
       "      <td>21</td>\n",
       "      <td>11</td>\n",
       "      <td>25</td>\n",
       "      <td>10</td>\n",
       "      <td>13</td>\n",
       "      <td>6</td>\n",
       "      <td>1</td>\n",
       "      <td>21</td>\n",
       "    </tr>\n",
       "    <tr>\n",
       "      <th>71735</th>\n",
       "      <td>2017</td>\n",
       "      <td>20</td>\n",
       "      <td>1213</td>\n",
       "      <td>84</td>\n",
       "      <td>1265</td>\n",
       "      <td>72</td>\n",
       "      <td>N</td>\n",
       "      <td>0</td>\n",
       "      <td>30</td>\n",
       "      <td>55</td>\n",
       "      <td>...</td>\n",
       "      <td>18</td>\n",
       "      <td>11</td>\n",
       "      <td>15</td>\n",
       "      <td>6</td>\n",
       "      <td>23</td>\n",
       "      <td>10</td>\n",
       "      <td>11</td>\n",
       "      <td>3</td>\n",
       "      <td>6</td>\n",
       "      <td>21</td>\n",
       "    </tr>\n",
       "    <tr>\n",
       "      <th>71983</th>\n",
       "      <td>2017</td>\n",
       "      <td>25</td>\n",
       "      <td>1213</td>\n",
       "      <td>70</td>\n",
       "      <td>1164</td>\n",
       "      <td>37</td>\n",
       "      <td>H</td>\n",
       "      <td>0</td>\n",
       "      <td>26</td>\n",
       "      <td>55</td>\n",
       "      <td>...</td>\n",
       "      <td>15</td>\n",
       "      <td>9</td>\n",
       "      <td>18</td>\n",
       "      <td>14</td>\n",
       "      <td>22</td>\n",
       "      <td>3</td>\n",
       "      <td>19</td>\n",
       "      <td>2</td>\n",
       "      <td>1</td>\n",
       "      <td>22</td>\n",
       "    </tr>\n",
       "    <tr>\n",
       "      <th>72560</th>\n",
       "      <td>2017</td>\n",
       "      <td>37</td>\n",
       "      <td>1213</td>\n",
       "      <td>76</td>\n",
       "      <td>1361</td>\n",
       "      <td>72</td>\n",
       "      <td>H</td>\n",
       "      <td>0</td>\n",
       "      <td>29</td>\n",
       "      <td>56</td>\n",
       "      <td>...</td>\n",
       "      <td>23</td>\n",
       "      <td>16</td>\n",
       "      <td>26</td>\n",
       "      <td>20</td>\n",
       "      <td>21</td>\n",
       "      <td>9</td>\n",
       "      <td>11</td>\n",
       "      <td>6</td>\n",
       "      <td>3</td>\n",
       "      <td>16</td>\n",
       "    </tr>\n",
       "    <tr>\n",
       "      <th>72650</th>\n",
       "      <td>2017</td>\n",
       "      <td>40</td>\n",
       "      <td>1213</td>\n",
       "      <td>73</td>\n",
       "      <td>1227</td>\n",
       "      <td>69</td>\n",
       "      <td>H</td>\n",
       "      <td>0</td>\n",
       "      <td>27</td>\n",
       "      <td>67</td>\n",
       "      <td>...</td>\n",
       "      <td>10</td>\n",
       "      <td>13</td>\n",
       "      <td>19</td>\n",
       "      <td>8</td>\n",
       "      <td>28</td>\n",
       "      <td>9</td>\n",
       "      <td>19</td>\n",
       "      <td>3</td>\n",
       "      <td>1</td>\n",
       "      <td>19</td>\n",
       "    </tr>\n",
       "    <tr>\n",
       "      <th>...</th>\n",
       "      <td>...</td>\n",
       "      <td>...</td>\n",
       "      <td>...</td>\n",
       "      <td>...</td>\n",
       "      <td>...</td>\n",
       "      <td>...</td>\n",
       "      <td>...</td>\n",
       "      <td>...</td>\n",
       "      <td>...</td>\n",
       "      <td>...</td>\n",
       "      <td>...</td>\n",
       "      <td>...</td>\n",
       "      <td>...</td>\n",
       "      <td>...</td>\n",
       "      <td>...</td>\n",
       "      <td>...</td>\n",
       "      <td>...</td>\n",
       "      <td>...</td>\n",
       "      <td>...</td>\n",
       "      <td>...</td>\n",
       "      <td>...</td>\n",
       "    </tr>\n",
       "    <tr>\n",
       "      <th>111171</th>\n",
       "      <td>2024</td>\n",
       "      <td>87</td>\n",
       "      <td>1213</td>\n",
       "      <td>95</td>\n",
       "      <td>1370</td>\n",
       "      <td>88</td>\n",
       "      <td>H</td>\n",
       "      <td>1</td>\n",
       "      <td>33</td>\n",
       "      <td>66</td>\n",
       "      <td>...</td>\n",
       "      <td>28</td>\n",
       "      <td>13</td>\n",
       "      <td>17</td>\n",
       "      <td>9</td>\n",
       "      <td>22</td>\n",
       "      <td>13</td>\n",
       "      <td>11</td>\n",
       "      <td>7</td>\n",
       "      <td>2</td>\n",
       "      <td>21</td>\n",
       "    </tr>\n",
       "    <tr>\n",
       "      <th>111278</th>\n",
       "      <td>2024</td>\n",
       "      <td>89</td>\n",
       "      <td>1213</td>\n",
       "      <td>86</td>\n",
       "      <td>1430</td>\n",
       "      <td>67</td>\n",
       "      <td>A</td>\n",
       "      <td>0</td>\n",
       "      <td>27</td>\n",
       "      <td>63</td>\n",
       "      <td>...</td>\n",
       "      <td>22</td>\n",
       "      <td>10</td>\n",
       "      <td>19</td>\n",
       "      <td>11</td>\n",
       "      <td>31</td>\n",
       "      <td>16</td>\n",
       "      <td>12</td>\n",
       "      <td>2</td>\n",
       "      <td>10</td>\n",
       "      <td>22</td>\n",
       "    </tr>\n",
       "    <tr>\n",
       "      <th>111618</th>\n",
       "      <td>2024</td>\n",
       "      <td>96</td>\n",
       "      <td>1213</td>\n",
       "      <td>94</td>\n",
       "      <td>1381</td>\n",
       "      <td>65</td>\n",
       "      <td>H</td>\n",
       "      <td>0</td>\n",
       "      <td>32</td>\n",
       "      <td>72</td>\n",
       "      <td>...</td>\n",
       "      <td>17</td>\n",
       "      <td>16</td>\n",
       "      <td>22</td>\n",
       "      <td>3</td>\n",
       "      <td>21</td>\n",
       "      <td>5</td>\n",
       "      <td>19</td>\n",
       "      <td>4</td>\n",
       "      <td>4</td>\n",
       "      <td>22</td>\n",
       "    </tr>\n",
       "    <tr>\n",
       "      <th>111837</th>\n",
       "      <td>2024</td>\n",
       "      <td>101</td>\n",
       "      <td>1213</td>\n",
       "      <td>73</td>\n",
       "      <td>1469</td>\n",
       "      <td>61</td>\n",
       "      <td>H</td>\n",
       "      <td>0</td>\n",
       "      <td>24</td>\n",
       "      <td>58</td>\n",
       "      <td>...</td>\n",
       "      <td>23</td>\n",
       "      <td>5</td>\n",
       "      <td>13</td>\n",
       "      <td>13</td>\n",
       "      <td>17</td>\n",
       "      <td>11</td>\n",
       "      <td>10</td>\n",
       "      <td>6</td>\n",
       "      <td>4</td>\n",
       "      <td>19</td>\n",
       "    </tr>\n",
       "    <tr>\n",
       "      <th>111948</th>\n",
       "      <td>2024</td>\n",
       "      <td>103</td>\n",
       "      <td>1213</td>\n",
       "      <td>79</td>\n",
       "      <td>1465</td>\n",
       "      <td>76</td>\n",
       "      <td>H</td>\n",
       "      <td>0</td>\n",
       "      <td>26</td>\n",
       "      <td>54</td>\n",
       "      <td>...</td>\n",
       "      <td>18</td>\n",
       "      <td>9</td>\n",
       "      <td>11</td>\n",
       "      <td>4</td>\n",
       "      <td>25</td>\n",
       "      <td>13</td>\n",
       "      <td>7</td>\n",
       "      <td>2</td>\n",
       "      <td>1</td>\n",
       "      <td>21</td>\n",
       "    </tr>\n",
       "  </tbody>\n",
       "</table>\n",
       "<p>152 rows × 34 columns</p>\n",
       "</div>"
      ],
      "text/plain": [
       "        Season  DayNum  WTeamID  WScore  LTeamID  LScore WLoc  NumOT  WFGM  \\\n",
       "71673     2017      19     1213      82     1107      77    N      0    29   \n",
       "71735     2017      20     1213      84     1265      72    N      0    30   \n",
       "71983     2017      25     1213      70     1164      37    H      0    26   \n",
       "72560     2017      37     1213      76     1361      72    H      0    29   \n",
       "72650     2017      40     1213      73     1227      69    H      0    27   \n",
       "...        ...     ...      ...     ...      ...     ...  ...    ...   ...   \n",
       "111171    2024      87     1213      95     1370      88    H      1    33   \n",
       "111278    2024      89     1213      86     1430      67    A      0    27   \n",
       "111618    2024      96     1213      94     1381      65    H      0    32   \n",
       "111837    2024     101     1213      73     1469      61    H      0    24   \n",
       "111948    2024     103     1213      79     1465      76    H      0    26   \n",
       "\n",
       "        WFGA  ...  LFGA3  LFTM  LFTA  LOR  LDR  LAst  LTO  LStl  LBlk  LPF  \n",
       "71673     59  ...     21    15    21   11   25    10   13     6     1   21  \n",
       "71735     55  ...     18    11    15    6   23    10   11     3     6   21  \n",
       "71983     55  ...     15     9    18   14   22     3   19     2     1   22  \n",
       "72560     56  ...     23    16    26   20   21     9   11     6     3   16  \n",
       "72650     67  ...     10    13    19    8   28     9   19     3     1   19  \n",
       "...      ...  ...    ...   ...   ...  ...  ...   ...  ...   ...   ...  ...  \n",
       "111171    66  ...     28    13    17    9   22    13   11     7     2   21  \n",
       "111278    63  ...     22    10    19   11   31    16   12     2    10   22  \n",
       "111618    72  ...     17    16    22    3   21     5   19     4     4   22  \n",
       "111837    58  ...     23     5    13   13   17    11   10     6     4   19  \n",
       "111948    54  ...     18     9    11    4   25    13    7     2     1   21  \n",
       "\n",
       "[152 rows x 34 columns]"
      ]
     },
     "execution_count": 52,
     "metadata": {},
     "output_type": "execute_result"
    }
   ],
   "source": [
    "men_regseason_results_det[(men_regseason_results_det.WTeamID == 1213) & (men_regseason_results_det.Season > 2016)]"
   ]
  },
  {
   "cell_type": "code",
   "execution_count": 49,
   "id": "aef5a883",
   "metadata": {},
   "outputs": [
    {
     "data": {
      "text/html": [
       "<div>\n",
       "<style scoped>\n",
       "    .dataframe tbody tr th:only-of-type {\n",
       "        vertical-align: middle;\n",
       "    }\n",
       "\n",
       "    .dataframe tbody tr th {\n",
       "        vertical-align: top;\n",
       "    }\n",
       "\n",
       "    .dataframe thead th {\n",
       "        text-align: right;\n",
       "    }\n",
       "</style>\n",
       "<table border=\"1\" class=\"dataframe\">\n",
       "  <thead>\n",
       "    <tr style=\"text-align: right;\">\n",
       "      <th></th>\n",
       "      <th>TeamID</th>\n",
       "      <th>TeamName</th>\n",
       "      <th>FirstD1Season</th>\n",
       "      <th>LastD1Season</th>\n",
       "    </tr>\n",
       "  </thead>\n",
       "  <tbody>\n",
       "    <tr>\n",
       "      <th>112</th>\n",
       "      <td>1213</td>\n",
       "      <td>Grand Canyon</td>\n",
       "      <td>2014</td>\n",
       "      <td>2024</td>\n",
       "    </tr>\n",
       "  </tbody>\n",
       "</table>\n",
       "</div>"
      ],
      "text/plain": [
       "     TeamID      TeamName  FirstD1Season  LastD1Season\n",
       "112    1213  Grand Canyon           2014          2024"
      ]
     },
     "execution_count": 49,
     "metadata": {},
     "output_type": "execute_result"
    }
   ],
   "source": [
    "#Team A\n",
    "men_teams[men_teams.TeamName == 'Grand Canyon']"
   ]
  },
  {
   "cell_type": "code",
   "execution_count": 50,
   "id": "6600ab16",
   "metadata": {},
   "outputs": [
    {
     "data": {
      "text/html": [
       "<div>\n",
       "<style scoped>\n",
       "    .dataframe tbody tr th:only-of-type {\n",
       "        vertical-align: middle;\n",
       "    }\n",
       "\n",
       "    .dataframe tbody tr th {\n",
       "        vertical-align: top;\n",
       "    }\n",
       "\n",
       "    .dataframe thead th {\n",
       "        text-align: right;\n",
       "    }\n",
       "</style>\n",
       "<table border=\"1\" class=\"dataframe\">\n",
       "  <thead>\n",
       "    <tr style=\"text-align: right;\">\n",
       "      <th></th>\n",
       "      <th>TeamID</th>\n",
       "      <th>TeamName</th>\n",
       "      <th>FirstD1Season</th>\n",
       "      <th>LastD1Season</th>\n",
       "    </tr>\n",
       "  </thead>\n",
       "  <tbody>\n",
       "    <tr>\n",
       "      <th>346</th>\n",
       "      <td>1447</td>\n",
       "      <td>Wagner</td>\n",
       "      <td>1985</td>\n",
       "      <td>2024</td>\n",
       "    </tr>\n",
       "  </tbody>\n",
       "</table>\n",
       "</div>"
      ],
      "text/plain": [
       "     TeamID TeamName  FirstD1Season  LastD1Season\n",
       "346    1447   Wagner           1985          2024"
      ]
     },
     "execution_count": 50,
     "metadata": {},
     "output_type": "execute_result"
    }
   ],
   "source": [
    "#Team B\n",
    "men_teams[men_teams.TeamName == 'Wagner']"
   ]
  }
 ],
 "metadata": {
  "kernelspec": {
   "display_name": "Python 3 (ipykernel)",
   "language": "python",
   "name": "python3"
  },
  "language_info": {
   "codemirror_mode": {
    "name": "ipython",
    "version": 3
   },
   "file_extension": ".py",
   "mimetype": "text/x-python",
   "name": "python",
   "nbconvert_exporter": "python",
   "pygments_lexer": "ipython3",
   "version": "3.9.12"
  }
 },
 "nbformat": 4,
 "nbformat_minor": 5
}
