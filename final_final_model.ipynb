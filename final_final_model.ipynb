{
 "cells": [
  {
   "cell_type": "code",
   "execution_count": 52,
   "id": "f1fcdc4f",
   "metadata": {},
   "outputs": [],
   "source": [
    "import pandas as pd\n",
    "import numpy as np\n",
    "import matplotlib.pyplot as plt\n",
    "import warnings\n",
    "from tqdm import tqdm\n",
    "warnings.filterwarnings('ignore')\n",
    "%matplotlib inline"
   ]
  },
  {
   "cell_type": "code",
   "execution_count": 177,
   "id": "7d02597d",
   "metadata": {},
   "outputs": [],
   "source": [
    "# all_season_score = pd.read_csv(\"./data/MRegularSeasonCompactResults.csv\")\n",
    "all_season_gamewise = pd.read_csv(\"./data/MRegularSeasonDetailedResults.csv\")\n",
    "ncaa_season_gamewise = pd.read_csv(\"./data/MNCAATourneyDetailedResults.csv\")"
   ]
  },
  {
   "cell_type": "code",
   "execution_count": 178,
   "id": "21d845ca",
   "metadata": {},
   "outputs": [
    {
     "data": {
      "text/html": [
       "<div>\n",
       "<style scoped>\n",
       "    .dataframe tbody tr th:only-of-type {\n",
       "        vertical-align: middle;\n",
       "    }\n",
       "\n",
       "    .dataframe tbody tr th {\n",
       "        vertical-align: top;\n",
       "    }\n",
       "\n",
       "    .dataframe thead th {\n",
       "        text-align: right;\n",
       "    }\n",
       "</style>\n",
       "<table border=\"1\" class=\"dataframe\">\n",
       "  <thead>\n",
       "    <tr style=\"text-align: right;\">\n",
       "      <th></th>\n",
       "      <th>Season</th>\n",
       "      <th>DayNum</th>\n",
       "      <th>WTeamID</th>\n",
       "      <th>WScore</th>\n",
       "      <th>LTeamID</th>\n",
       "      <th>LScore</th>\n",
       "      <th>WLoc</th>\n",
       "      <th>NumOT</th>\n",
       "      <th>WFGM</th>\n",
       "      <th>WFGA</th>\n",
       "      <th>...</th>\n",
       "      <th>LFGA3</th>\n",
       "      <th>LFTM</th>\n",
       "      <th>LFTA</th>\n",
       "      <th>LOR</th>\n",
       "      <th>LDR</th>\n",
       "      <th>LAst</th>\n",
       "      <th>LTO</th>\n",
       "      <th>LStl</th>\n",
       "      <th>LBlk</th>\n",
       "      <th>LPF</th>\n",
       "    </tr>\n",
       "  </thead>\n",
       "  <tbody>\n",
       "    <tr>\n",
       "      <th>0</th>\n",
       "      <td>2003</td>\n",
       "      <td>10</td>\n",
       "      <td>1104</td>\n",
       "      <td>68</td>\n",
       "      <td>1328</td>\n",
       "      <td>62</td>\n",
       "      <td>N</td>\n",
       "      <td>0</td>\n",
       "      <td>27</td>\n",
       "      <td>58</td>\n",
       "      <td>...</td>\n",
       "      <td>10</td>\n",
       "      <td>16</td>\n",
       "      <td>22</td>\n",
       "      <td>10</td>\n",
       "      <td>22</td>\n",
       "      <td>8</td>\n",
       "      <td>18</td>\n",
       "      <td>9</td>\n",
       "      <td>2</td>\n",
       "      <td>20</td>\n",
       "    </tr>\n",
       "    <tr>\n",
       "      <th>1</th>\n",
       "      <td>2003</td>\n",
       "      <td>10</td>\n",
       "      <td>1272</td>\n",
       "      <td>70</td>\n",
       "      <td>1393</td>\n",
       "      <td>63</td>\n",
       "      <td>N</td>\n",
       "      <td>0</td>\n",
       "      <td>26</td>\n",
       "      <td>62</td>\n",
       "      <td>...</td>\n",
       "      <td>24</td>\n",
       "      <td>9</td>\n",
       "      <td>20</td>\n",
       "      <td>20</td>\n",
       "      <td>25</td>\n",
       "      <td>7</td>\n",
       "      <td>12</td>\n",
       "      <td>8</td>\n",
       "      <td>6</td>\n",
       "      <td>16</td>\n",
       "    </tr>\n",
       "    <tr>\n",
       "      <th>2</th>\n",
       "      <td>2003</td>\n",
       "      <td>11</td>\n",
       "      <td>1266</td>\n",
       "      <td>73</td>\n",
       "      <td>1437</td>\n",
       "      <td>61</td>\n",
       "      <td>N</td>\n",
       "      <td>0</td>\n",
       "      <td>24</td>\n",
       "      <td>58</td>\n",
       "      <td>...</td>\n",
       "      <td>26</td>\n",
       "      <td>14</td>\n",
       "      <td>23</td>\n",
       "      <td>31</td>\n",
       "      <td>22</td>\n",
       "      <td>9</td>\n",
       "      <td>12</td>\n",
       "      <td>2</td>\n",
       "      <td>5</td>\n",
       "      <td>23</td>\n",
       "    </tr>\n",
       "    <tr>\n",
       "      <th>3</th>\n",
       "      <td>2003</td>\n",
       "      <td>11</td>\n",
       "      <td>1296</td>\n",
       "      <td>56</td>\n",
       "      <td>1457</td>\n",
       "      <td>50</td>\n",
       "      <td>N</td>\n",
       "      <td>0</td>\n",
       "      <td>18</td>\n",
       "      <td>38</td>\n",
       "      <td>...</td>\n",
       "      <td>22</td>\n",
       "      <td>8</td>\n",
       "      <td>15</td>\n",
       "      <td>17</td>\n",
       "      <td>20</td>\n",
       "      <td>9</td>\n",
       "      <td>19</td>\n",
       "      <td>4</td>\n",
       "      <td>3</td>\n",
       "      <td>23</td>\n",
       "    </tr>\n",
       "    <tr>\n",
       "      <th>4</th>\n",
       "      <td>2003</td>\n",
       "      <td>11</td>\n",
       "      <td>1400</td>\n",
       "      <td>77</td>\n",
       "      <td>1208</td>\n",
       "      <td>71</td>\n",
       "      <td>N</td>\n",
       "      <td>0</td>\n",
       "      <td>30</td>\n",
       "      <td>61</td>\n",
       "      <td>...</td>\n",
       "      <td>16</td>\n",
       "      <td>17</td>\n",
       "      <td>27</td>\n",
       "      <td>21</td>\n",
       "      <td>15</td>\n",
       "      <td>12</td>\n",
       "      <td>10</td>\n",
       "      <td>7</td>\n",
       "      <td>1</td>\n",
       "      <td>14</td>\n",
       "    </tr>\n",
       "    <tr>\n",
       "      <th>...</th>\n",
       "      <td>...</td>\n",
       "      <td>...</td>\n",
       "      <td>...</td>\n",
       "      <td>...</td>\n",
       "      <td>...</td>\n",
       "      <td>...</td>\n",
       "      <td>...</td>\n",
       "      <td>...</td>\n",
       "      <td>...</td>\n",
       "      <td>...</td>\n",
       "      <td>...</td>\n",
       "      <td>...</td>\n",
       "      <td>...</td>\n",
       "      <td>...</td>\n",
       "      <td>...</td>\n",
       "      <td>...</td>\n",
       "      <td>...</td>\n",
       "      <td>...</td>\n",
       "      <td>...</td>\n",
       "      <td>...</td>\n",
       "      <td>...</td>\n",
       "    </tr>\n",
       "    <tr>\n",
       "      <th>113236</th>\n",
       "      <td>2024</td>\n",
       "      <td>132</td>\n",
       "      <td>1120</td>\n",
       "      <td>86</td>\n",
       "      <td>1196</td>\n",
       "      <td>67</td>\n",
       "      <td>N</td>\n",
       "      <td>0</td>\n",
       "      <td>31</td>\n",
       "      <td>61</td>\n",
       "      <td>...</td>\n",
       "      <td>13</td>\n",
       "      <td>18</td>\n",
       "      <td>25</td>\n",
       "      <td>13</td>\n",
       "      <td>26</td>\n",
       "      <td>9</td>\n",
       "      <td>11</td>\n",
       "      <td>8</td>\n",
       "      <td>6</td>\n",
       "      <td>17</td>\n",
       "    </tr>\n",
       "    <tr>\n",
       "      <th>113237</th>\n",
       "      <td>2024</td>\n",
       "      <td>132</td>\n",
       "      <td>1182</td>\n",
       "      <td>57</td>\n",
       "      <td>1433</td>\n",
       "      <td>51</td>\n",
       "      <td>N</td>\n",
       "      <td>0</td>\n",
       "      <td>17</td>\n",
       "      <td>57</td>\n",
       "      <td>...</td>\n",
       "      <td>24</td>\n",
       "      <td>12</td>\n",
       "      <td>14</td>\n",
       "      <td>9</td>\n",
       "      <td>25</td>\n",
       "      <td>9</td>\n",
       "      <td>16</td>\n",
       "      <td>10</td>\n",
       "      <td>9</td>\n",
       "      <td>16</td>\n",
       "    </tr>\n",
       "    <tr>\n",
       "      <th>113238</th>\n",
       "      <td>2024</td>\n",
       "      <td>132</td>\n",
       "      <td>1228</td>\n",
       "      <td>93</td>\n",
       "      <td>1458</td>\n",
       "      <td>87</td>\n",
       "      <td>N</td>\n",
       "      <td>0</td>\n",
       "      <td>30</td>\n",
       "      <td>57</td>\n",
       "      <td>...</td>\n",
       "      <td>20</td>\n",
       "      <td>20</td>\n",
       "      <td>23</td>\n",
       "      <td>13</td>\n",
       "      <td>17</td>\n",
       "      <td>17</td>\n",
       "      <td>7</td>\n",
       "      <td>7</td>\n",
       "      <td>1</td>\n",
       "      <td>20</td>\n",
       "    </tr>\n",
       "    <tr>\n",
       "      <th>113239</th>\n",
       "      <td>2024</td>\n",
       "      <td>132</td>\n",
       "      <td>1412</td>\n",
       "      <td>85</td>\n",
       "      <td>1396</td>\n",
       "      <td>69</td>\n",
       "      <td>N</td>\n",
       "      <td>0</td>\n",
       "      <td>31</td>\n",
       "      <td>63</td>\n",
       "      <td>...</td>\n",
       "      <td>21</td>\n",
       "      <td>14</td>\n",
       "      <td>17</td>\n",
       "      <td>11</td>\n",
       "      <td>26</td>\n",
       "      <td>17</td>\n",
       "      <td>14</td>\n",
       "      <td>6</td>\n",
       "      <td>6</td>\n",
       "      <td>18</td>\n",
       "    </tr>\n",
       "    <tr>\n",
       "      <th>113240</th>\n",
       "      <td>2024</td>\n",
       "      <td>132</td>\n",
       "      <td>1463</td>\n",
       "      <td>62</td>\n",
       "      <td>1135</td>\n",
       "      <td>61</td>\n",
       "      <td>N</td>\n",
       "      <td>0</td>\n",
       "      <td>25</td>\n",
       "      <td>64</td>\n",
       "      <td>...</td>\n",
       "      <td>25</td>\n",
       "      <td>8</td>\n",
       "      <td>15</td>\n",
       "      <td>8</td>\n",
       "      <td>27</td>\n",
       "      <td>13</td>\n",
       "      <td>9</td>\n",
       "      <td>3</td>\n",
       "      <td>3</td>\n",
       "      <td>11</td>\n",
       "    </tr>\n",
       "  </tbody>\n",
       "</table>\n",
       "<p>113241 rows × 34 columns</p>\n",
       "</div>"
      ],
      "text/plain": [
       "        Season  DayNum  WTeamID  WScore  LTeamID  LScore WLoc  NumOT  WFGM  \\\n",
       "0         2003      10     1104      68     1328      62    N      0    27   \n",
       "1         2003      10     1272      70     1393      63    N      0    26   \n",
       "2         2003      11     1266      73     1437      61    N      0    24   \n",
       "3         2003      11     1296      56     1457      50    N      0    18   \n",
       "4         2003      11     1400      77     1208      71    N      0    30   \n",
       "...        ...     ...      ...     ...      ...     ...  ...    ...   ...   \n",
       "113236    2024     132     1120      86     1196      67    N      0    31   \n",
       "113237    2024     132     1182      57     1433      51    N      0    17   \n",
       "113238    2024     132     1228      93     1458      87    N      0    30   \n",
       "113239    2024     132     1412      85     1396      69    N      0    31   \n",
       "113240    2024     132     1463      62     1135      61    N      0    25   \n",
       "\n",
       "        WFGA  ...  LFGA3  LFTM  LFTA  LOR  LDR  LAst  LTO  LStl  LBlk  LPF  \n",
       "0         58  ...     10    16    22   10   22     8   18     9     2   20  \n",
       "1         62  ...     24     9    20   20   25     7   12     8     6   16  \n",
       "2         58  ...     26    14    23   31   22     9   12     2     5   23  \n",
       "3         38  ...     22     8    15   17   20     9   19     4     3   23  \n",
       "4         61  ...     16    17    27   21   15    12   10     7     1   14  \n",
       "...      ...  ...    ...   ...   ...  ...  ...   ...  ...   ...   ...  ...  \n",
       "113236    61  ...     13    18    25   13   26     9   11     8     6   17  \n",
       "113237    57  ...     24    12    14    9   25     9   16    10     9   16  \n",
       "113238    57  ...     20    20    23   13   17    17    7     7     1   20  \n",
       "113239    63  ...     21    14    17   11   26    17   14     6     6   18  \n",
       "113240    64  ...     25     8    15    8   27    13    9     3     3   11  \n",
       "\n",
       "[113241 rows x 34 columns]"
      ]
     },
     "execution_count": 178,
     "metadata": {},
     "output_type": "execute_result"
    }
   ],
   "source": [
    "all_season_gamewise"
   ]
  },
  {
   "cell_type": "code",
   "execution_count": 179,
   "id": "50d23f72",
   "metadata": {},
   "outputs": [
    {
     "data": {
      "text/plain": [
       "(5602, 34)"
      ]
     },
     "execution_count": 179,
     "metadata": {},
     "output_type": "execute_result"
    }
   ],
   "source": [
    "all_season_gamewise[all_season_gamewise.Season == 2023].shape"
   ]
  },
  {
   "cell_type": "code",
   "execution_count": 180,
   "id": "28107ded",
   "metadata": {},
   "outputs": [],
   "source": [
    "test_data = all_season_gamewise[all_season_gamewise.Season == 2024]\n",
    "all_season_gamewise = all_season_gamewise[all_season_gamewise.Season < 2024]"
   ]
  },
  {
   "cell_type": "code",
   "execution_count": 181,
   "id": "1468279b",
   "metadata": {},
   "outputs": [
    {
     "data": {
      "text/plain": [
       "((107634, 34), (1315, 34), (5607, 34))"
      ]
     },
     "execution_count": 181,
     "metadata": {},
     "output_type": "execute_result"
    }
   ],
   "source": [
    "all_season_gamewise.shape, ncaa_season_gamewise.shape, test_data.shape"
   ]
  },
  {
   "cell_type": "code",
   "execution_count": 182,
   "id": "1ef69812",
   "metadata": {},
   "outputs": [],
   "source": [
    "# all_season_score = all_season_score[all_season_score.Season >= 2003].reset_index().drop(columns=['index'])\n",
    "# all_season_score"
   ]
  },
  {
   "cell_type": "code",
   "execution_count": 183,
   "id": "18774dc0",
   "metadata": {},
   "outputs": [
    {
     "data": {
      "text/plain": [
       "(Index(['Season', 'DayNum', 'WTeamID', 'WScore', 'LTeamID', 'LScore', 'WLoc',\n",
       "        'NumOT', 'WFGM', 'WFGA', 'WFGM3', 'WFGA3', 'WFTM', 'WFTA', 'WOR', 'WDR',\n",
       "        'WAst', 'WTO', 'WStl', 'WBlk', 'WPF', 'LFGM', 'LFGA', 'LFGM3', 'LFGA3',\n",
       "        'LFTM', 'LFTA', 'LOR', 'LDR', 'LAst', 'LTO', 'LStl', 'LBlk', 'LPF'],\n",
       "       dtype='object'),\n",
       " Index(['Season', 'DayNum', 'WTeamID', 'WScore', 'LTeamID', 'LScore', 'WLoc',\n",
       "        'NumOT', 'WFGM', 'WFGA', 'WFGM3', 'WFGA3', 'WFTM', 'WFTA', 'WOR', 'WDR',\n",
       "        'WAst', 'WTO', 'WStl', 'WBlk', 'WPF', 'LFGM', 'LFGA', 'LFGM3', 'LFGA3',\n",
       "        'LFTM', 'LFTA', 'LOR', 'LDR', 'LAst', 'LTO', 'LStl', 'LBlk', 'LPF'],\n",
       "       dtype='object'))"
      ]
     },
     "execution_count": 183,
     "metadata": {},
     "output_type": "execute_result"
    }
   ],
   "source": [
    "all_season_gamewise.columns, ncaa_season_gamewise.columns"
   ]
  },
  {
   "cell_type": "code",
   "execution_count": 184,
   "id": "b02750e8",
   "metadata": {},
   "outputs": [],
   "source": [
    "all_df_dropped_cols = all_season_gamewise.drop(columns=['Season', 'DayNum', 'WLoc', 'NumOT'])\n",
    "ncaa_df_dropped_cols = ncaa_season_gamewise.drop(columns=['Season', 'DayNum', 'WLoc', 'NumOT'])\n",
    "test_df_dropped_cols = test_data.drop(columns=['Season', 'DayNum', 'WLoc', 'NumOT'])"
   ]
  },
  {
   "cell_type": "code",
   "execution_count": 185,
   "id": "076c0d42",
   "metadata": {},
   "outputs": [],
   "source": [
    "combined_df = pd.concat([all_df_dropped_cols, ncaa_df_dropped_cols])"
   ]
  },
  {
   "cell_type": "code",
   "execution_count": 186,
   "id": "c865aac3",
   "metadata": {},
   "outputs": [
    {
     "data": {
      "text/plain": [
       "Index(['WTeamID', 'WScore', 'LTeamID', 'LScore', 'WFGM', 'WFGA', 'WFGM3',\n",
       "       'WFGA3', 'WFTM', 'WFTA', 'WOR', 'WDR', 'WAst', 'WTO', 'WStl', 'WBlk',\n",
       "       'WPF', 'LFGM', 'LFGA', 'LFGM3', 'LFGA3', 'LFTM', 'LFTA', 'LOR', 'LDR',\n",
       "       'LAst', 'LTO', 'LStl', 'LBlk', 'LPF'],\n",
       "      dtype='object')"
      ]
     },
     "execution_count": 186,
     "metadata": {},
     "output_type": "execute_result"
    }
   ],
   "source": [
    "combined_df.columns"
   ]
  },
  {
   "cell_type": "code",
   "execution_count": 187,
   "id": "6c833a5a",
   "metadata": {},
   "outputs": [],
   "source": [
    "combined_team_a = combined_df[['WTeamID', 'WScore', 'WFGM', 'WFGA', 'WFGM3', 'WFGA3', 'WFTM', 'WFTA', 'WOR', \n",
    "                               'WDR', 'WAst', 'WTO', 'WStl', 'WBlk', 'WPF']]\n",
    "combined_team_b = combined_df[['LTeamID', 'LScore', 'LFGM', 'LFGA', 'LFGM3', 'LFGA3', 'LFTM', 'LFTA', 'LOR', \n",
    "                               'LDR', 'LAst', 'LTO', 'LStl', 'LBlk', 'LPF']]\n",
    "combined_team_b = combined_team_b.rename(columns=lambda x: 'W' + x[1:])\n",
    "\n",
    "\n",
    "\n",
    "test_combined_team_a = test_df_dropped_cols[['WTeamID', 'WScore', 'WFGM', 'WFGA', 'WFGM3', 'WFGA3', 'WFTM', 'WFTA', 'WOR', \n",
    "                               'WDR', 'WAst', 'WTO', 'WStl', 'WBlk', 'WPF']]\n",
    "test_combined_team_b = test_df_dropped_cols[['LTeamID', 'LScore', 'LFGM', 'LFGA', 'LFGM3', 'LFGA3', 'LFTM', 'LFTA', 'LOR', \n",
    "                               'LDR', 'LAst', 'LTO', 'LStl', 'LBlk', 'LPF']]\n",
    "test_combined_team_b = test_combined_team_b.rename(columns=lambda x: 'W' + x[1:])"
   ]
  },
  {
   "cell_type": "code",
   "execution_count": 188,
   "id": "97ba63c2",
   "metadata": {},
   "outputs": [],
   "source": [
    "indexes_shuffled = np.random.permutation(len(combined_team_a))\n",
    "total_combination = len(combined_team_a)\n",
    "\n",
    "test_indexes_shuffled = np.random.permutation(len(test_combined_team_a))\n",
    "test_total_combination = len(test_combined_team_a)"
   ]
  },
  {
   "cell_type": "code",
   "execution_count": 189,
   "id": "09dbd73c",
   "metadata": {},
   "outputs": [],
   "source": [
    "team_a_df = pd.DataFrame(columns=combined_team_a.columns)\n",
    "team_b_df = pd.DataFrame(columns=combined_team_b.columns)\n",
    "\n",
    "test_team_a_df = pd.DataFrame(columns=test_combined_team_a.columns)\n",
    "test_team_b_df = pd.DataFrame(columns=test_combined_team_a.columns)"
   ]
  },
  {
   "cell_type": "code",
   "execution_count": 190,
   "id": "1bd1f406",
   "metadata": {},
   "outputs": [
    {
     "name": "stderr",
     "output_type": "stream",
     "text": [
      "100%|██████████████████████████████████| 108949/108949 [16:25<00:00, 110.58it/s]\n",
      "100%|██████████████████████████████████████| 5607/5607 [00:12<00:00, 453.25it/s]\n"
     ]
    }
   ],
   "source": [
    "for i in tqdm(range(total_combination)):\n",
    "    ind1 = indexes_shuffled[i]\n",
    "    x = np.random.uniform()\n",
    "    if x > 0.5:\n",
    "        team_a_df = team_a_df.append(combined_team_a.iloc[ind1])\n",
    "        team_b_df = team_b_df.append(combined_team_b.iloc[ind1])\n",
    "    else:\n",
    "        team_a_df = team_a_df.append(combined_team_b.iloc[ind1])\n",
    "        team_b_df = team_b_df.append(combined_team_a.iloc[ind1])\n",
    "        \n",
    "for i in tqdm(range(test_total_combination)):\n",
    "    ind1 = test_indexes_shuffled[i]\n",
    "    x = np.random.uniform()\n",
    "    if x > 0.5:\n",
    "        test_team_a_df = test_team_a_df.append(test_combined_team_a.iloc[ind1])\n",
    "        test_team_b_df = test_team_b_df.append(test_combined_team_b.iloc[ind1])\n",
    "    else:\n",
    "        test_team_a_df = test_team_a_df.append(test_combined_team_b.iloc[ind1])\n",
    "        test_team_b_df = test_team_b_df.append(test_combined_team_a.iloc[ind1])"
   ]
  },
  {
   "cell_type": "code",
   "execution_count": 197,
   "id": "cbd096a8",
   "metadata": {},
   "outputs": [],
   "source": [
    "team_a_df.to_csv(\"./data/team_a_df.csv\", index=False)\n",
    "team_b_df.to_csv(\"./data/team_b_df.csv\", index=False)\n",
    "\n",
    "test_team_a_df.to_csv(\"./data/test_team_a_df.csv\", index=False)\n",
    "test_team_b_df.to_csv(\"./data/test_team_b_df.csv\", index=False)"
   ]
  },
  {
   "cell_type": "markdown",
   "id": "6a85f878",
   "metadata": {},
   "source": [
    "# Checkpoint 1 - saved the dataset"
   ]
  },
  {
   "cell_type": "code",
   "execution_count": 198,
   "id": "a40eb1c3",
   "metadata": {},
   "outputs": [],
   "source": [
    "team_a_df = pd.read_csv(\"./data/team_a_df.csv\")\n",
    "team_b_df = pd.read_csv(\"./data/team_b_df.csv\")\n",
    "\n",
    "test_team_a_df = pd.read_csv(\"./data/test_team_a_df.csv\")\n",
    "test_team_b_df = pd.read_csv(\"./data/test_team_b_df.csv\")"
   ]
  },
  {
   "cell_type": "markdown",
   "id": "0705a9f7",
   "metadata": {},
   "source": [
    "TS% = (0.5∗(points_score))/((field_goal_attempts) + 0.44*(free_throw_attempts))"
   ]
  },
  {
   "cell_type": "code",
   "execution_count": 199,
   "id": "1190153b",
   "metadata": {},
   "outputs": [],
   "source": [
    "team_a_df['WTS'] = (0.5 * team_a_df.WScore.astype(float)) / (team_a_df.WFGA.astype(float) + 0.44*team_a_df.WFTA.astype(float))\n",
    "team_b_df['WTS'] = (0.5 * team_b_df.WScore.astype(float)) / (team_b_df.WFGA.astype(float) + 0.44*team_b_df.WFTA.astype(float))\n",
    "\n",
    "test_team_a_df['WTS'] = (0.5 * test_team_a_df.WScore.astype(float)) / (test_team_a_df.WFGA.astype(float) + 0.44*test_team_a_df.WFTA.astype(float))\n",
    "test_team_b_df['WTS'] = (0.5 * test_team_b_df.WScore.astype(float)) / (test_team_b_df.WFGA.astype(float) + 0.44*test_team_b_df.WFTA.astype(float))"
   ]
  },
  {
   "cell_type": "code",
   "execution_count": 200,
   "id": "6eec203f",
   "metadata": {},
   "outputs": [],
   "source": [
    "from sklearn.preprocessing import LabelEncoder"
   ]
  },
  {
   "cell_type": "code",
   "execution_count": 201,
   "id": "ac7c8e0a",
   "metadata": {},
   "outputs": [
    {
     "data": {
      "text/html": [
       "<style>#sk-container-id-4 {color: black;background-color: white;}#sk-container-id-4 pre{padding: 0;}#sk-container-id-4 div.sk-toggleable {background-color: white;}#sk-container-id-4 label.sk-toggleable__label {cursor: pointer;display: block;width: 100%;margin-bottom: 0;padding: 0.3em;box-sizing: border-box;text-align: center;}#sk-container-id-4 label.sk-toggleable__label-arrow:before {content: \"▸\";float: left;margin-right: 0.25em;color: #696969;}#sk-container-id-4 label.sk-toggleable__label-arrow:hover:before {color: black;}#sk-container-id-4 div.sk-estimator:hover label.sk-toggleable__label-arrow:before {color: black;}#sk-container-id-4 div.sk-toggleable__content {max-height: 0;max-width: 0;overflow: hidden;text-align: left;background-color: #f0f8ff;}#sk-container-id-4 div.sk-toggleable__content pre {margin: 0.2em;color: black;border-radius: 0.25em;background-color: #f0f8ff;}#sk-container-id-4 input.sk-toggleable__control:checked~div.sk-toggleable__content {max-height: 200px;max-width: 100%;overflow: auto;}#sk-container-id-4 input.sk-toggleable__control:checked~label.sk-toggleable__label-arrow:before {content: \"▾\";}#sk-container-id-4 div.sk-estimator input.sk-toggleable__control:checked~label.sk-toggleable__label {background-color: #d4ebff;}#sk-container-id-4 div.sk-label input.sk-toggleable__control:checked~label.sk-toggleable__label {background-color: #d4ebff;}#sk-container-id-4 input.sk-hidden--visually {border: 0;clip: rect(1px 1px 1px 1px);clip: rect(1px, 1px, 1px, 1px);height: 1px;margin: -1px;overflow: hidden;padding: 0;position: absolute;width: 1px;}#sk-container-id-4 div.sk-estimator {font-family: monospace;background-color: #f0f8ff;border: 1px dotted black;border-radius: 0.25em;box-sizing: border-box;margin-bottom: 0.5em;}#sk-container-id-4 div.sk-estimator:hover {background-color: #d4ebff;}#sk-container-id-4 div.sk-parallel-item::after {content: \"\";width: 100%;border-bottom: 1px solid gray;flex-grow: 1;}#sk-container-id-4 div.sk-label:hover label.sk-toggleable__label {background-color: #d4ebff;}#sk-container-id-4 div.sk-serial::before {content: \"\";position: absolute;border-left: 1px solid gray;box-sizing: border-box;top: 0;bottom: 0;left: 50%;z-index: 0;}#sk-container-id-4 div.sk-serial {display: flex;flex-direction: column;align-items: center;background-color: white;padding-right: 0.2em;padding-left: 0.2em;position: relative;}#sk-container-id-4 div.sk-item {position: relative;z-index: 1;}#sk-container-id-4 div.sk-parallel {display: flex;align-items: stretch;justify-content: center;background-color: white;position: relative;}#sk-container-id-4 div.sk-item::before, #sk-container-id-4 div.sk-parallel-item::before {content: \"\";position: absolute;border-left: 1px solid gray;box-sizing: border-box;top: 0;bottom: 0;left: 50%;z-index: -1;}#sk-container-id-4 div.sk-parallel-item {display: flex;flex-direction: column;z-index: 1;position: relative;background-color: white;}#sk-container-id-4 div.sk-parallel-item:first-child::after {align-self: flex-end;width: 50%;}#sk-container-id-4 div.sk-parallel-item:last-child::after {align-self: flex-start;width: 50%;}#sk-container-id-4 div.sk-parallel-item:only-child::after {width: 0;}#sk-container-id-4 div.sk-dashed-wrapped {border: 1px dashed gray;margin: 0 0.4em 0.5em 0.4em;box-sizing: border-box;padding-bottom: 0.4em;background-color: white;}#sk-container-id-4 div.sk-label label {font-family: monospace;font-weight: bold;display: inline-block;line-height: 1.2em;}#sk-container-id-4 div.sk-label-container {text-align: center;}#sk-container-id-4 div.sk-container {/* jupyter's `normalize.less` sets `[hidden] { display: none; }` but bootstrap.min.css set `[hidden] { display: none !important; }` so we also need the `!important` here to be able to override the default hidden behavior on the sphinx rendered scikit-learn.org. See: https://github.com/scikit-learn/scikit-learn/issues/21755 */display: inline-block !important;position: relative;}#sk-container-id-4 div.sk-text-repr-fallback {display: none;}</style><div id=\"sk-container-id-4\" class=\"sk-top-container\"><div class=\"sk-text-repr-fallback\"><pre>LabelEncoder()</pre><b>In a Jupyter environment, please rerun this cell to show the HTML representation or trust the notebook. <br />On GitHub, the HTML representation is unable to render, please try loading this page with nbviewer.org.</b></div><div class=\"sk-container\" hidden><div class=\"sk-item\"><div class=\"sk-estimator sk-toggleable\"><input class=\"sk-toggleable__control sk-hidden--visually\" id=\"sk-estimator-id-4\" type=\"checkbox\" checked><label for=\"sk-estimator-id-4\" class=\"sk-toggleable__label sk-toggleable__label-arrow\">LabelEncoder</label><div class=\"sk-toggleable__content\"><pre>LabelEncoder()</pre></div></div></div></div></div>"
      ],
      "text/plain": [
       "LabelEncoder()"
      ]
     },
     "execution_count": 201,
     "metadata": {},
     "output_type": "execute_result"
    }
   ],
   "source": [
    "labelEncoder = LabelEncoder()\n",
    "all_teams_name = list(set(team_a_df.WTeamID.to_list() + team_b_df.WTeamID.to_list() + \n",
    "                          test_team_a_df.WTeamID.to_list() + test_team_b_df.WTeamID.to_list()))\n",
    "labelEncoder.fit(all_teams_name)"
   ]
  },
  {
   "cell_type": "code",
   "execution_count": 202,
   "id": "e6753c23",
   "metadata": {},
   "outputs": [],
   "source": [
    "team_a_df['encoded_team'] = labelEncoder.transform(team_a_df.WTeamID)\n",
    "team_b_df['encoded_team'] = labelEncoder.transform(team_b_df.WTeamID)\n",
    "target_score_differential = team_a_df.WScore - team_b_df.WScore\n",
    "\n",
    "\n",
    "test_team_a_df['encoded_team'] = labelEncoder.transform(test_team_a_df.WTeamID)\n",
    "test_team_b_df['encoded_team'] = labelEncoder.transform(test_team_b_df.WTeamID)"
   ]
  },
  {
   "cell_type": "code",
   "execution_count": 203,
   "id": "26a160b8",
   "metadata": {},
   "outputs": [
    {
     "data": {
      "text/plain": [
       "Index(['WTeamID', 'WScore', 'WFGM', 'WFGA', 'WFGM3', 'WFGA3', 'WFTM', 'WFTA',\n",
       "       'WOR', 'WDR', 'WAst', 'WTO', 'WStl', 'WBlk', 'WPF', 'WTS',\n",
       "       'encoded_team'],\n",
       "      dtype='object')"
      ]
     },
     "execution_count": 203,
     "metadata": {},
     "output_type": "execute_result"
    }
   ],
   "source": [
    "team_a_df.columns"
   ]
  },
  {
   "cell_type": "code",
   "execution_count": 247,
   "id": "76272620",
   "metadata": {},
   "outputs": [],
   "source": [
    "# removed WScore and WTS\n",
    "features = ['WFGM', 'WFGA', 'WFGM3', 'WFGA3', 'WFTM', 'WFTA', 'WOR', 'WDR', 'WAst', 'WTO', 'WStl', 'WBlk', 'WPF', 'WTS']"
   ]
  },
  {
   "cell_type": "code",
   "execution_count": 248,
   "id": "4dbb5406",
   "metadata": {},
   "outputs": [],
   "source": [
    "import tensorflow as tf\n",
    "from tensorflow.keras.models import Model\n",
    "from tensorflow.keras.optimizers import Adam\n",
    "from tensorflow.keras.layers import Input, Embedding, Flatten, Dense, Concatenate, Add"
   ]
  },
  {
   "cell_type": "code",
   "execution_count": 252,
   "id": "49d65c51",
   "metadata": {},
   "outputs": [],
   "source": [
    "# Define the hyperparameters for our model.\n",
    "embedding_dim = 32\n",
    "num_teams = len(all_teams_name)\n",
    "\n",
    "def get_model():\n",
    "    \"\"\"\n",
    "    This function creates a tensorflow model using the Keras Functional API.\n",
    "\n",
    "    Returns:\n",
    "      - keras.engine.functional.Functional: The compiled Tensorflow/Keras model\n",
    "    \"\"\"\n",
    "    # As mentioned above, we are using the team's label encoded values as inputs\n",
    "    team_a = Input(shape=(len(features),), name='team_a')\n",
    "    team_b = Input(shape=(len(features),), name='team_b')\n",
    "\n",
    "    # Embedding layers for two labels\n",
    "    team_a_embedding = Embedding(num_teams, embedding_dim, input_length=1, name='team_a_embedding')(team_a)\n",
    "    team_b_embedding = Embedding(num_teams, embedding_dim, input_length=1, name='team_b_embedding')(team_b)\n",
    "    \n",
    "    # Flatten and concatenate the layers.\n",
    "    team_a_flat = Flatten()(team_a_embedding)\n",
    "    team_b_flat = Flatten()(team_b_embedding)\n",
    "    team_a_b = Concatenate()([team_a_flat, team_b_flat])\n",
    "    \n",
    "    # Leverage some dense layers to extract data \n",
    "    dense_1 = Dense(256, activation='relu')(team_a_b)\n",
    "    dense_2 = Dense(128, activation='relu')(dense_1)\n",
    "    # We are using a linear activation on the final layer as we are predicting the score_diff\n",
    "    output_layer = Dense(1, activation='linear', name='output')(dense_2)\n",
    "\n",
    "    # Finalize the model by defining inputs/outputs and compiliation details\n",
    "    model = Model(inputs=[team_a, team_b], outputs=output_layer)\n",
    "    adam = Adam(learning_rate=1e-5)\n",
    "    model.compile(optimizer='adam', loss='mse', metrics=['mae'])\n",
    "    \n",
    "    return model"
   ]
  },
  {
   "cell_type": "code",
   "execution_count": 253,
   "id": "689b6b66",
   "metadata": {},
   "outputs": [
    {
     "name": "stdout",
     "output_type": "stream",
     "text": [
      "Model: \"model_10\"\n",
      "__________________________________________________________________________________________________\n",
      " Layer (type)                Output Shape                 Param #   Connected to                  \n",
      "==================================================================================================\n",
      " team_a (InputLayer)         [(None, 14)]                 0         []                            \n",
      "                                                                                                  \n",
      " team_b (InputLayer)         [(None, 14)]                 0         []                            \n",
      "                                                                                                  \n",
      " team_a_embedding (Embeddin  (None, 14, 32)               11808     ['team_a[0][0]']              \n",
      " g)                                                                                               \n",
      "                                                                                                  \n",
      " team_b_embedding (Embeddin  (None, 14, 32)               11808     ['team_b[0][0]']              \n",
      " g)                                                                                               \n",
      "                                                                                                  \n",
      " flatten_20 (Flatten)        (None, 448)                  0         ['team_a_embedding[0][0]']    \n",
      "                                                                                                  \n",
      " flatten_21 (Flatten)        (None, 448)                  0         ['team_b_embedding[0][0]']    \n",
      "                                                                                                  \n",
      " concatenate_10 (Concatenat  (None, 896)                  0         ['flatten_20[0][0]',          \n",
      " e)                                                                  'flatten_21[0][0]']          \n",
      "                                                                                                  \n",
      " dense_18 (Dense)            (None, 256)                  229632    ['concatenate_10[0][0]']      \n",
      "                                                                                                  \n",
      " dense_19 (Dense)            (None, 128)                  32896     ['dense_18[0][0]']            \n",
      "                                                                                                  \n",
      " output (Dense)              (None, 1)                    129       ['dense_19[0][0]']            \n",
      "                                                                                                  \n",
      "==================================================================================================\n",
      "Total params: 286273 (1.09 MB)\n",
      "Trainable params: 286273 (1.09 MB)\n",
      "Non-trainable params: 0 (0.00 Byte)\n",
      "__________________________________________________________________________________________________\n"
     ]
    }
   ],
   "source": [
    "adv_model = get_model()\n",
    "adv_model.summary()"
   ]
  },
  {
   "cell_type": "code",
   "execution_count": 254,
   "id": "4a2ae7c8",
   "metadata": {},
   "outputs": [
    {
     "name": "stdout",
     "output_type": "stream",
     "text": [
      "Epoch 1/10\n",
      "3051/3051 [==============================] - 12s 4ms/step - loss: 8.1467 - mae: 1.3784 - val_loss: 1.6638 - val_mae: 0.9181\n",
      "Epoch 2/10\n",
      "3051/3051 [==============================] - 10s 3ms/step - loss: 0.9756 - mae: 0.6262 - val_loss: 0.8274 - val_mae: 0.5241\n",
      "Epoch 3/10\n",
      "3051/3051 [==============================] - 10s 3ms/step - loss: 0.6820 - mae: 0.5547 - val_loss: 0.7025 - val_mae: 0.4791\n",
      "Epoch 4/10\n",
      "3051/3051 [==============================] - 10s 3ms/step - loss: 0.4166 - mae: 0.4475 - val_loss: 0.5635 - val_mae: 0.2874\n",
      "Epoch 5/10\n",
      "3051/3051 [==============================] - 10s 3ms/step - loss: 0.3850 - mae: 0.4437 - val_loss: 0.6186 - val_mae: 0.2910\n",
      "Epoch 6/10\n",
      "3051/3051 [==============================] - 11s 4ms/step - loss: 0.3627 - mae: 0.4158 - val_loss: 0.7454 - val_mae: 0.3855\n",
      "Epoch 7/10\n",
      "3051/3051 [==============================] - 12s 4ms/step - loss: 0.2431 - mae: 0.3563 - val_loss: 0.7153 - val_mae: 0.2868\n",
      "Epoch 8/10\n",
      "3051/3051 [==============================] - 12s 4ms/step - loss: 0.2535 - mae: 0.3359 - val_loss: 0.6119 - val_mae: 0.2774\n",
      "Epoch 9/10\n",
      "3051/3051 [==============================] - 12s 4ms/step - loss: 0.2338 - mae: 0.3431 - val_loss: 3.1667 - val_mae: 1.3630\n",
      "Epoch 10/10\n",
      "3051/3051 [==============================] - 12s 4ms/step - loss: 0.2029 - mae: 0.2965 - val_loss: 2.1757 - val_mae: 1.0936\n"
     ]
    },
    {
     "data": {
      "text/plain": [
       "<keras.src.callbacks.History at 0x7fdf65b42d30>"
      ]
     },
     "execution_count": 254,
     "metadata": {},
     "output_type": "execute_result"
    }
   ],
   "source": [
    "adv_model.fit(\n",
    "    [team_a_df[features], team_b_df[features]],\n",
    "    target_score_differential,\n",
    "    batch_size=25,\n",
    "    epochs=10,\n",
    "    validation_split=0.3\n",
    ")"
   ]
  },
  {
   "cell_type": "code",
   "execution_count": 255,
   "id": "e7574453",
   "metadata": {},
   "outputs": [
    {
     "name": "stdout",
     "output_type": "stream",
     "text": [
      "176/176 [==============================] - 0s 1ms/step\n"
     ]
    }
   ],
   "source": [
    "prediction_score_differential = adv_model.predict([test_team_a_df[features], test_team_b_df[features]])\n",
    "prediction_score_differential = prediction_score_differential.flatten()"
   ]
  },
  {
   "cell_type": "code",
   "execution_count": 256,
   "id": "d1753bce",
   "metadata": {},
   "outputs": [],
   "source": [
    "actual_score_differential = []\n",
    "for index, (row_a, row_b) in enumerate(zip(test_team_a_df.iterrows(), test_team_b_df.iterrows())):\n",
    "    index_a, data_a = row_a\n",
    "    index_b, data_b = row_b\n",
    "    score_differential = data_a['WScore'] - data_b['WScore']\n",
    "    actual_score_differential.append(score_differential)\n",
    "#     print(f\"Row {index+1}: => Score Differential: {score_differential}\")"
   ]
  },
  {
   "cell_type": "code",
   "execution_count": 257,
   "id": "a1efd6b3",
   "metadata": {},
   "outputs": [
    {
     "name": "stdout",
     "output_type": "stream",
     "text": [
      "The accuracy over the 2024 regular season is: 98.75156054931335% given the score is known\n"
     ]
    }
   ],
   "source": [
    "count = 0\n",
    "for x, y in zip(actual_score_differential, prediction_score_differential):\n",
    "    if x<0 and y<0:\n",
    "        count += 1\n",
    "    if x>0 and y>0:\n",
    "        count+=1\n",
    "        \n",
    "print(f\"The accuracy over the 2024 regular season is: {(float(count)/len(actual_score_differential))*100.0}% given the score is known\")"
   ]
  },
  {
   "cell_type": "code",
   "execution_count": 258,
   "id": "2c4f940c",
   "metadata": {},
   "outputs": [],
   "source": [
    "teams_in_2024 = list(set(test_team_a_df.WTeamID.to_list() + test_team_b_df.WTeamID.to_list()))"
   ]
  },
  {
   "cell_type": "code",
   "execution_count": 259,
   "id": "ebccdc21",
   "metadata": {},
   "outputs": [],
   "source": [
    "# sorted(teams_in_2024)"
   ]
  },
  {
   "cell_type": "code",
   "execution_count": null,
   "id": "28df182a",
   "metadata": {},
   "outputs": [],
   "source": []
  },
  {
   "cell_type": "code",
   "execution_count": 264,
   "id": "bd87f9dd",
   "metadata": {},
   "outputs": [],
   "source": [
    "season_23_data_team_a_df = team_a_df\n",
    "season_23_data_team_b_df = team_b_df\n",
    "features_for_averaging = ['WFGM', 'WFGA', 'WFGM3', 'WFGA3', 'WFTM', 'WFTA', 'WOR', 'WDR', 'WAst', 'WTO', 'WStl', 'WBlk', 'WPF', 'WTS']"
   ]
  },
  {
   "cell_type": "code",
   "execution_count": 265,
   "id": "faf49eaf",
   "metadata": {},
   "outputs": [],
   "source": [
    "teams_in_2024_average_stats = {}\n",
    "for team in teams_in_2024:\n",
    "    df_tmp_if_a_team = season_23_data_team_a_df[season_23_data_team_a_df.WTeamID == team][features_for_averaging]\n",
    "    df_tmp_if_b_team = season_23_data_team_b_df[season_23_data_team_b_df.WTeamID == team][features_for_averaging]\n",
    "    average_if_a_team = df_tmp_if_a_team.describe().mean().values\n",
    "    average_if_b_team = df_tmp_if_b_team.describe().mean().values\n",
    "    overall_average = (average_if_a_team + average_if_b_team)/2.0\n",
    "    teams_in_2024_average_stats[team] = overall_average"
   ]
  },
  {
   "cell_type": "code",
   "execution_count": 266,
   "id": "0953d0e3",
   "metadata": {
    "scrolled": true
   },
   "outputs": [
    {
     "name": "stderr",
     "output_type": "stream",
     "text": [
      "100%|███████████████████████████████████████| 5607/5607 [06:00<00:00, 15.55it/s]\n"
     ]
    }
   ],
   "source": [
    "prediction_score_differential = []\n",
    "for team_a, team_b in tqdm(zip(test_team_a_df.WTeamID.to_list(), test_team_b_df.WTeamID.to_list()), total=len(test_team_a_df)):\n",
    "    prediction = adv_model.predict([np.reshape(teams_in_2024_average_stats[team_a], (1,14)), \n",
    "                             np.reshape(teams_in_2024_average_stats[team_b], (1,14))], verbose=False)\n",
    "    prediction_score_differential.append(prediction)"
   ]
  },
  {
   "cell_type": "code",
   "execution_count": 267,
   "id": "acedc13d",
   "metadata": {},
   "outputs": [],
   "source": [
    "actual_score_differential = []\n",
    "for index, (row_a, row_b) in enumerate(zip(test_team_a_df.iterrows(), test_team_b_df.iterrows())):\n",
    "    index_a, data_a = row_a\n",
    "    index_b, data_b = row_b\n",
    "    score_differential = data_a['WScore'] - data_b['WScore']\n",
    "    actual_score_differential.append(score_differential)\n",
    "#     print(f\"Row {index+1}: => Score Differential: {score_differential}\")"
   ]
  },
  {
   "cell_type": "code",
   "execution_count": 268,
   "id": "82861cc1",
   "metadata": {},
   "outputs": [
    {
     "name": "stdout",
     "output_type": "stream",
     "text": [
      "The accuracy over the 2024 regular season is: 48.51079008382379% where average score of previous regular season is taken\n"
     ]
    }
   ],
   "source": [
    "count = 0\n",
    "for x, y in zip(actual_score_differential, prediction_score_differential):\n",
    "    if x<0 and y<0:\n",
    "        count += 1\n",
    "    if x>0 and y>0:\n",
    "        count+=1\n",
    "        \n",
    "print(f\"The accuracy over the 2024 regular season is: {(float(count)/len(actual_score_differential))*100.0}% where average score of previous regular season is taken\")"
   ]
  },
  {
   "cell_type": "code",
   "execution_count": 271,
   "id": "6ad04f6a",
   "metadata": {},
   "outputs": [],
   "source": [
    "mens_team = pd.read_csv(\"./data/MTeams.csv\")"
   ]
  },
  {
   "cell_type": "code",
   "execution_count": 272,
   "id": "97e21eac",
   "metadata": {},
   "outputs": [],
   "source": [
    "team_ids_to_name = {}\n",
    "for x, y in zip(mens_team.TeamName.to_list(), mens_team.TeamID.to_list()):\n",
    "    team_ids_to_name[x] = y"
   ]
  },
  {
   "cell_type": "code",
   "execution_count": 269,
   "id": "eaacc448",
   "metadata": {},
   "outputs": [],
   "source": [
    "submission = pd.read_csv(\"./data/submission.csv\")"
   ]
  },
  {
   "cell_type": "code",
   "execution_count": 270,
   "id": "404e9f7e",
   "metadata": {},
   "outputs": [
    {
     "data": {
      "text/html": [
       "<div>\n",
       "<style scoped>\n",
       "    .dataframe tbody tr th:only-of-type {\n",
       "        vertical-align: middle;\n",
       "    }\n",
       "\n",
       "    .dataframe tbody tr th {\n",
       "        vertical-align: top;\n",
       "    }\n",
       "\n",
       "    .dataframe thead th {\n",
       "        text-align: right;\n",
       "    }\n",
       "</style>\n",
       "<table border=\"1\" class=\"dataframe\">\n",
       "  <thead>\n",
       "    <tr style=\"text-align: right;\">\n",
       "      <th></th>\n",
       "      <th>Team_A</th>\n",
       "      <th>Team_B</th>\n",
       "      <th>Team A Win</th>\n",
       "    </tr>\n",
       "  </thead>\n",
       "  <tbody>\n",
       "    <tr>\n",
       "      <th>0</th>\n",
       "      <td>Connecticut</td>\n",
       "      <td>Stetson</td>\n",
       "      <td>0</td>\n",
       "    </tr>\n",
       "    <tr>\n",
       "      <th>1</th>\n",
       "      <td>Connecticut</td>\n",
       "      <td>FL Atlantic</td>\n",
       "      <td>0</td>\n",
       "    </tr>\n",
       "    <tr>\n",
       "      <th>2</th>\n",
       "      <td>Connecticut</td>\n",
       "      <td>Northwestern</td>\n",
       "      <td>0</td>\n",
       "    </tr>\n",
       "    <tr>\n",
       "      <th>3</th>\n",
       "      <td>Connecticut</td>\n",
       "      <td>San Diego St</td>\n",
       "      <td>0</td>\n",
       "    </tr>\n",
       "    <tr>\n",
       "      <th>4</th>\n",
       "      <td>Connecticut</td>\n",
       "      <td>UAB</td>\n",
       "      <td>0</td>\n",
       "    </tr>\n",
       "    <tr>\n",
       "      <th>...</th>\n",
       "      <td>...</td>\n",
       "      <td>...</td>\n",
       "      <td>...</td>\n",
       "    </tr>\n",
       "    <tr>\n",
       "      <th>4551</th>\n",
       "      <td>St Peter's</td>\n",
       "      <td>Akron</td>\n",
       "      <td>0</td>\n",
       "    </tr>\n",
       "    <tr>\n",
       "      <th>4552</th>\n",
       "      <td>St Peter's</td>\n",
       "      <td>Texas</td>\n",
       "      <td>0</td>\n",
       "    </tr>\n",
       "    <tr>\n",
       "      <th>4553</th>\n",
       "      <td>St Peter's</td>\n",
       "      <td>Virginia</td>\n",
       "      <td>0</td>\n",
       "    </tr>\n",
       "    <tr>\n",
       "      <th>4554</th>\n",
       "      <td>St Peter's</td>\n",
       "      <td>Colorado St</td>\n",
       "      <td>0</td>\n",
       "    </tr>\n",
       "    <tr>\n",
       "      <th>4555</th>\n",
       "      <td>St Peter's</td>\n",
       "      <td>Tennessee</td>\n",
       "      <td>0</td>\n",
       "    </tr>\n",
       "  </tbody>\n",
       "</table>\n",
       "<p>4556 rows × 3 columns</p>\n",
       "</div>"
      ],
      "text/plain": [
       "           Team_A        Team_B  Team A Win\n",
       "0     Connecticut       Stetson           0\n",
       "1     Connecticut   FL Atlantic           0\n",
       "2     Connecticut  Northwestern           0\n",
       "3     Connecticut  San Diego St           0\n",
       "4     Connecticut           UAB           0\n",
       "...           ...           ...         ...\n",
       "4551   St Peter's         Akron           0\n",
       "4552   St Peter's         Texas           0\n",
       "4553   St Peter's      Virginia           0\n",
       "4554   St Peter's   Colorado St           0\n",
       "4555   St Peter's     Tennessee           0\n",
       "\n",
       "[4556 rows x 3 columns]"
      ]
     },
     "execution_count": 270,
     "metadata": {},
     "output_type": "execute_result"
    }
   ],
   "source": [
    "submission"
   ]
  },
  {
   "cell_type": "code",
   "execution_count": 275,
   "id": "94563085",
   "metadata": {},
   "outputs": [
    {
     "name": "stderr",
     "output_type": "stream",
     "text": [
      "100%|███████████████████████████████████████| 4556/4556 [05:36<00:00, 13.54it/s]\n"
     ]
    }
   ],
   "source": [
    "is_team_A_win = []\n",
    "for team_a, team_b in tqdm(zip(submission.Team_A.to_list(), submission.Team_B.to_list()), total=submission.shape[0]):\n",
    "    prediction = adv_model.predict([np.reshape(teams_in_2024_average_stats[team_ids_to_name[team_a]], (1,14)), \n",
    "                             np.reshape(teams_in_2024_average_stats[team_ids_to_name[team_b]], (1,14))], verbose=False)\n",
    "    if prediction > 0:\n",
    "        is_team_A_win.append(1)\n",
    "    else:\n",
    "        is_team_A_win.append(0)"
   ]
  },
  {
   "cell_type": "code",
   "execution_count": 276,
   "id": "c7f95785",
   "metadata": {},
   "outputs": [],
   "source": [
    "submissionsion['Team A Win'is_team_A_win_team_A_win"
   ]
  },
  {
   "cell_type": "code",
   "execution_count": 277,
   "id": "c496e8d5",
   "metadata": {},
   "outputs": [],
   "source": [
    "submission.to_csv(\"./data/final_submission.csv\", index=False)"
   ]
  },
  {
   "cell_type": "code",
   "execution_count": 278,
   "id": "fa661ad9",
   "metadata": {},
   "outputs": [],
   "source": [
    "x = submission.Team_A.to_list()\n",
    "y = submission.Team_B.to_list()\n",
    "z = submission['Team A Win']"
   ]
  },
  {
   "cell_type": "code",
   "execution_count": 279,
   "id": "966944a0",
   "metadata": {},
   "outputs": [
    {
     "ename": "AttributeError",
     "evalue": "'list' object has no attribute 'find'",
     "output_type": "error",
     "traceback": [
      "\u001b[0;31m---------------------------------------------------------------------------\u001b[0m",
      "\u001b[0;31mAttributeError\u001b[0m                            Traceback (most recent call last)",
      "\u001b[0;32m/var/folders/wz/cnwy77v95fz65y4_p_vs2l140000gn/T/ipykernel_34179/693705093.py\u001b[0m in \u001b[0;36m<module>\u001b[0;34m\u001b[0m\n\u001b[0;32m----> 1\u001b[0;31m \u001b[0mind\u001b[0m \u001b[0;34m=\u001b[0m \u001b[0mx\u001b[0m\u001b[0;34m.\u001b[0m\u001b[0mfind\u001b[0m\u001b[0;34m(\u001b[0m\u001b[0;34m'Iowa State'\u001b[0m\u001b[0;34m)\u001b[0m\u001b[0;34m\u001b[0m\u001b[0;34m\u001b[0m\u001b[0m\n\u001b[0m\u001b[1;32m      2\u001b[0m \u001b[0mind\u001b[0m\u001b[0;34m\u001b[0m\u001b[0;34m\u001b[0m\u001b[0m\n",
      "\u001b[0;31mAttributeError\u001b[0m: 'list' object has no attribute 'find'"
     ]
    }
   ],
   "source": [
    "for i in x:\n",
    "    if"
   ]
  },
  {
   "cell_type": "code",
   "execution_count": null,
   "id": "0551f935",
   "metadata": {},
   "outputs": [],
   "source": [
    "# testing for matches played on 19 March\n",
    "# Howard = 1224\n",
    "# Wagner = 1447"
   ]
  }
 ],
 "metadata": {
  "kernelspec": {
   "display_name": "Python 3 (ipykernel)",
   "language": "python",
   "name": "python3"
  },
  "language_info": {
   "codemirror_mode": {
    "name": "ipython",
    "version": 3
   },
   "file_extension": ".py",
   "mimetype": "text/x-python",
   "name": "python",
   "nbconvert_exporter": "python",
   "pygments_lexer": "ipython3",
   "version": "3.9.7"
  }
 },
 "nbformat": 4,
 "nbformat_minor": 5
}
